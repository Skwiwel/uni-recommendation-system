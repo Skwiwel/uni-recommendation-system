{
 "cells": [
  {
   "cell_type": "markdown",
   "metadata": {},
   "source": [
    "# IUM projekt - temat 2\n",
    "\n",
    "## Treść zadania\n",
    "> Są osoby, które wchodzą na naszą stronę i nie mogą się zdecydować, którym produktom przyjrzeć się nieco lepiej. Może dało by się im coś polecić?"
   ]
  },
  {
   "cell_type": "markdown",
   "metadata": {},
   "source": [
    "## Definicja problemu biznesowego \n",
    "\n",
    "Firma eShopping prowadzi sklep internetowy, w którym klienci mogą przeglądać katalog produktów i dokonywać zakupu. Aby mogło dojść do transakcji kupujący musi znaleźć odpowiedni dla siebie produkt. Jednym z działań, jakie sklep może wykonać, aby zachęcić klienta do kupna produktu, a tym samym zwiększyć dochód ze sprzedaży, jest wspomożenie klienta w wyszukaniu odpowiedniego artykułu lub przedstawienie mu nowej idei na zakup. \n",
    "\n",
    "Wspomaganie klienta w zakupie poprzez prezentowanie mu ofert podobnych artykułów do przeglądanego na podstawie kategorii produktów jest zadaniem stosunkowo prostym. Problemem cięższym do rozwiązania jest zagadnienie prezentacji produktów, które podobały się innym kupującym o podobnych zainteresowaniach. System prezentujący kupującemu nowe produkty i skutecznie wzbudzający zainteresowanie klienta tymi produktami przyczyniłby się do zauważalnego wzrostu dochodów ze sprzedaży oraz wpłynąłby na głębsze zainteresowanie serwisem ze strony kupujących. \n",
    "\n",
    "Zadaniem niniejszego projektu jest utworzenie systemu, który na podstawie zebranych danych o kliencie oraz odnotowanej aktywności podobnych mu kupujących tworzy propozycje produktów, które mogłyby go zainteresować. Biznesową miarą jakości systemu jest jego skuteczność w doborze przedstawianych produktów określana na podstawie odnotowania przejrzenia strony produktu. \n",
    "\n",
    "\n",
    "## Zdefiniowanie zadania modelowania \n",
    "\n",
    "Przygotowanie modelu rekomendacyjnego opierającego swoje działanie na odnotowanej historii przeglądania i zakupów produktów przez użytkowników sklepu. \n",
    "\n",
    "#### Przygotowane zostaną dwa modele: \n",
    "\n",
    "Model opierający swoje działanie wyłącznie na ogólnej popularności produktów, nie uwzględniając informacji o preferencjach innych użytkowników poza danym klientem. Model taki brałby pod uwagę kategorie produktów przeglądanych przez użytkownika i rekomendował najbardziej popularne nieoglądane do tej pory produkty z danych kategorii. Systemy tego typu są proste w implementacji, szybkie w działaniu, a także nietrudno jest opisać ich działanie. Ich wadą jest małe dostosowanie do indywidualnych zainteresowań klienta, a także brak możliwości proponowania produktów spoza odnotowanych kategorii. \n",
    "\n",
    "Model biorący pod uwagę przede wszystkim podobieństwa między klientami. Model taki znajdowałby klientów podobnych do danego i rekomendował na podstawie przejrzanych przez nich produktów. System taki może korzystać z “pomysłowości” innych klientów do dokonywania rekomendacji, dzięki czemu mogłyby być prezentowane produkty także z innych kategorii niż te bezpośredniego zainteresowania klienta. Dodatkowo, system taki byłby w stanie wykryć nieznane (w danych) podziały produktów na kategorie. \n",
    "\n",
    "## Założenia \n",
    "\n",
    "Usługa predykcji udostępniana jest za pomocą mikroserwisu. Żądanie polega na przekazaniu informacji o kliencie oraz jego aktywności, a odpowiedź serwisu zawierać musi N produktów, które należy przedstawić klientowi. \n",
    "\n",
    "Model ma w krótkim czasie (max 2 sekund) udzielić odpowiedzi na żądanie wejściowe. Model może dokonywać predykcji wcześniej, na podstawie uprzednio zebranych danych, a na żądanie odpowiadać jedynie poprzez przekazanie utworzonych predykcji. \n",
    "\n",
    "Do dyspozycji jest baza danych klientów, ich transakcji oraz produktów oferowanych przez sklep. Dane zebrane są z okresu czasu, na podstawie którego można w konstruktywny sposób przewidywać aktualne zainteresowania. \n",
    "\n",
    " \n",
    "## Kryteria sukcesu \n",
    "\n",
    "Kryterium sukcesu jest stosunek liczby skutecznych rekomendacji do liczby wszystkich zarekomendowanych produktów. Rekomendację uważa się za skuteczną, jeśli na jej skutek użytkownik wszedł na stronę produktu. Model powinien dążyć do maksymalizacji wymienionego kryterium. \n",
    "\n",
    " \n",
    "## Analiza danych \n",
    "\n",
    "Dostarczone dane są wystarczające do zrealizowania zadania.  \n",
    "\n",
    "Kluczowe dane to: \n",
    "\n",
    "- historia przeglądania i zakupów `sessions.jsonl` \n",
    "- lista produktów i ich kategorii `products.jsonl` \n",
    "\n",
    "O ile baza informacji o klientach mogłaby wspomóc dokładność przewidywań modelu, informacje zawarte w users.jsonl nie przyniosłyby znaczącej poprawy działania modelu. Informacje o płci i adresie zamieszkania klienta mogłyby być w ogólnym przypadku przydatne, lecz jako że artykuły oferowane przez sklep dotyczą elektroniki, te informacje nie miałyby szczególnego znaczenia. \n",
    "\n",
    "Dane dotyczące historii dostaw również nie wspomogłyby modelu w zauważalnym stopniu, więc nie zostaną wykorzystane. \n",
    "\n",
    "Część danych zawiera błędy, w tym: \n",
    "- ujemne ceny \n",
    "- znacząco zawyżone ceny detaliczne produktów \n",
    "- brak danych o produkcie lub użytkowniku w rekordzie wydarzenia sesji \n",
    "\n",
    "Błędy dotyczą niedużej części danych. Stwierdzono też, że błędy dotyczące cen produktów są schematyczne w swojej naturze i umożliwiają odzyskanie danych. Większość tych danych poprawiona jest ręcznie.  \n",
    "\n",
    "Jeśli chodzi o braki danych w zdarzeniach sesji, to te dane da się odzyskać tylko częściowo. Większość brakujących danych dotyczących użytkowników (`user_id`) sesji da się odzyskać na podstawie numeru sesji. Rekordy, w których nie da się odzyskać danych nie będą brane pod uwagę w czasie trenowania modeli. Usunięte rekordy stanowią około 5.2% wszystkich rekordów zawartych w `sessions.jsonl`. \n",
    "\n",
    "W zbiorze danych sesji nie występują produkty niezdefiniowane w zbiorze produktów. W chwili obecnej zakłada się, że tego typu luk nie będzie również w przyszłości. \n",
    "\n",
    "Z punktu widzenia modelu rekomendacji danych nie ma zbyt dużo. W szczególności znaczącą ilość informacji wniosłyby dokładniejsze podziały produktów na podkategorie lub atrybuty.  \n",
    "\n",
    "Na przykład:\n",
    "- rodzaje matrycy, rozdzielczości, przekątne monitorów \n",
    "- typy gry, kategorie wiekowe gier \n",
    "\n",
    "Ponad to, zaawansowane systemy rekomendacji opierają swoje działanie często na systemie ocen produktów, a nie tylko na wyświetleniach i zakupach produktów. \n",
    "\n",
    "Wymienione wyżej czynniki wskazują, że zastosowanie skomplikowanego modelu uczenia maszynowego raczej nie dałoby zauważalnie lepszych rezultatów od prostych modeli statystycznych. \n",
    "\n",
    "Ponad to, zauważono, że macierz sąsiedztwa przeglądań produktów (użytkownik-przejrzał-produkt) jest bardzo gęsta (współczynnik gęstości 76%), co dodatkowo zwiększa skuteczność działania modeli statystycznych względem modeli opartych np. na grafowych sieciach neuronowych. \n",
    "\n",
    " \n",
    "## Analityczne kryterium sukcesu a realia projektowe (modelowanie offline) \n",
    "\n",
    "Jako że modele uczone i testowane są na podstawie danych offline ciężko jest stwierdzić, jak modele sprawdziłyby się w rzeczywistych warunkach. W szczególności, ze względu na brak możliwości sprawdzenia, czy dokładnie sprecyzowane kryterium biznesowe zostałoby spełnione, nie zawarliśmy informacji o takim kryterium w powyższej części dokumentu. \n",
    "\n",
    "Dla kompletności można jednak sformułować pewne realistyczne, konkretne biznesowe kryterium sukcesu. Na przykład: \n",
    "\n",
    "> W wyniku wprowadzenia systemu predykcji do funkcjonalności sklepu ilość przejrzeń stron produktów musi wzrosnąć o minimum 10%, aby system był opłacalny. \n",
    "\n",
    "Na podstawie otrzymanych danych 10% wzrost to nie mniej niż 115 więcej przejrzeń dziennie."
   ]
  },
  {
   "cell_type": "markdown",
   "metadata": {},
   "source": [
    "### Obliczenia oraz dogłębna analiza danych i ich użyteczności\n",
    "Poniżej znajdują się obliczenia, na których oparte zostały wartości liczbowe z powyższego raportu. Wszystkie obliczenia dotyczą bazy rekordów wydarzeń sesji."
   ]
  },
  {
   "cell_type": "code",
   "execution_count": 1,
   "metadata": {},
   "outputs": [],
   "source": [
    "import numpy as np\n",
    "import pandas as pd\n",
    "\n",
    "data_raw_dir = 'data_raw/'\n",
    "data_dir = 'data/'\n",
    "sessions_file = 'sessions.jsonl'\n",
    "products_file = 'products.jsonl'\n",
    "users_file = 'users.jsonl'\n",
    "sessions_raw_filepath = data_raw_dir + sessions_file\n",
    "sessions_filepath = data_dir + sessions_file\n",
    "products_filepath = data_dir + products_file\n",
    "users_filepath = data_raw_dir + users_file"
   ]
  },
  {
   "cell_type": "code",
   "execution_count": 2,
   "metadata": {},
   "outputs": [
    {
     "data": {
      "text/html": [
       "<div>\n",
       "<style scoped>\n",
       "    .dataframe tbody tr th:only-of-type {\n",
       "        vertical-align: middle;\n",
       "    }\n",
       "\n",
       "    .dataframe tbody tr th {\n",
       "        vertical-align: top;\n",
       "    }\n",
       "\n",
       "    .dataframe thead th {\n",
       "        text-align: right;\n",
       "    }\n",
       "</style>\n",
       "<table border=\"1\" class=\"dataframe\">\n",
       "  <thead>\n",
       "    <tr style=\"text-align: right;\">\n",
       "      <th></th>\n",
       "      <th>session_id</th>\n",
       "      <th>timestamp</th>\n",
       "      <th>user_id</th>\n",
       "      <th>product_id</th>\n",
       "      <th>event_type</th>\n",
       "      <th>offered_discount</th>\n",
       "      <th>purchase_id</th>\n",
       "    </tr>\n",
       "  </thead>\n",
       "  <tbody>\n",
       "    <tr>\n",
       "      <th>0</th>\n",
       "      <td>100001</td>\n",
       "      <td>2021-01-26 00:42:30</td>\n",
       "      <td>NaN</td>\n",
       "      <td>1001.0</td>\n",
       "      <td>VIEW_PRODUCT</td>\n",
       "      <td>15</td>\n",
       "      <td>NaN</td>\n",
       "    </tr>\n",
       "    <tr>\n",
       "      <th>1</th>\n",
       "      <td>100002</td>\n",
       "      <td>2021-01-05 04:28:35</td>\n",
       "      <td>102.0</td>\n",
       "      <td>1308.0</td>\n",
       "      <td>VIEW_PRODUCT</td>\n",
       "      <td>5</td>\n",
       "      <td>NaN</td>\n",
       "    </tr>\n",
       "    <tr>\n",
       "      <th>2</th>\n",
       "      <td>100002</td>\n",
       "      <td>2021-01-05 04:29:28</td>\n",
       "      <td>102.0</td>\n",
       "      <td>1297.0</td>\n",
       "      <td>VIEW_PRODUCT</td>\n",
       "      <td>5</td>\n",
       "      <td>NaN</td>\n",
       "    </tr>\n",
       "    <tr>\n",
       "      <th>3</th>\n",
       "      <td>100002</td>\n",
       "      <td>2021-01-05 04:31:43</td>\n",
       "      <td>102.0</td>\n",
       "      <td>1291.0</td>\n",
       "      <td>VIEW_PRODUCT</td>\n",
       "      <td>5</td>\n",
       "      <td>NaN</td>\n",
       "    </tr>\n",
       "    <tr>\n",
       "      <th>4</th>\n",
       "      <td>100002</td>\n",
       "      <td>2021-01-05 04:34:16</td>\n",
       "      <td>102.0</td>\n",
       "      <td>1313.0</td>\n",
       "      <td>VIEW_PRODUCT</td>\n",
       "      <td>5</td>\n",
       "      <td>NaN</td>\n",
       "    </tr>\n",
       "    <tr>\n",
       "      <th>...</th>\n",
       "      <td>...</td>\n",
       "      <td>...</td>\n",
       "      <td>...</td>\n",
       "      <td>...</td>\n",
       "      <td>...</td>\n",
       "      <td>...</td>\n",
       "      <td>...</td>\n",
       "    </tr>\n",
       "    <tr>\n",
       "      <th>87598</th>\n",
       "      <td>110658</td>\n",
       "      <td>2021-03-11 13:07:51</td>\n",
       "      <td>301.0</td>\n",
       "      <td>1048.0</td>\n",
       "      <td>VIEW_PRODUCT</td>\n",
       "      <td>10</td>\n",
       "      <td>NaN</td>\n",
       "    </tr>\n",
       "    <tr>\n",
       "      <th>87599</th>\n",
       "      <td>110658</td>\n",
       "      <td>2021-03-11 13:09:45</td>\n",
       "      <td>301.0</td>\n",
       "      <td>1143.0</td>\n",
       "      <td>VIEW_PRODUCT</td>\n",
       "      <td>10</td>\n",
       "      <td>NaN</td>\n",
       "    </tr>\n",
       "    <tr>\n",
       "      <th>87600</th>\n",
       "      <td>110658</td>\n",
       "      <td>2021-03-11 13:11:31</td>\n",
       "      <td>301.0</td>\n",
       "      <td>1110.0</td>\n",
       "      <td>VIEW_PRODUCT</td>\n",
       "      <td>10</td>\n",
       "      <td>NaN</td>\n",
       "    </tr>\n",
       "    <tr>\n",
       "      <th>87601</th>\n",
       "      <td>110658</td>\n",
       "      <td>2021-03-11 13:13:14</td>\n",
       "      <td>301.0</td>\n",
       "      <td>1141.0</td>\n",
       "      <td>VIEW_PRODUCT</td>\n",
       "      <td>10</td>\n",
       "      <td>NaN</td>\n",
       "    </tr>\n",
       "    <tr>\n",
       "      <th>87602</th>\n",
       "      <td>110658</td>\n",
       "      <td>2021-03-11 13:14:16</td>\n",
       "      <td>NaN</td>\n",
       "      <td>1141.0</td>\n",
       "      <td>BUY_PRODUCT</td>\n",
       "      <td>10</td>\n",
       "      <td>25368.0</td>\n",
       "    </tr>\n",
       "  </tbody>\n",
       "</table>\n",
       "<p>87603 rows × 7 columns</p>\n",
       "</div>"
      ],
      "text/plain": [
       "       session_id           timestamp  user_id  product_id    event_type  \\\n",
       "0          100001 2021-01-26 00:42:30      NaN      1001.0  VIEW_PRODUCT   \n",
       "1          100002 2021-01-05 04:28:35    102.0      1308.0  VIEW_PRODUCT   \n",
       "2          100002 2021-01-05 04:29:28    102.0      1297.0  VIEW_PRODUCT   \n",
       "3          100002 2021-01-05 04:31:43    102.0      1291.0  VIEW_PRODUCT   \n",
       "4          100002 2021-01-05 04:34:16    102.0      1313.0  VIEW_PRODUCT   \n",
       "...           ...                 ...      ...         ...           ...   \n",
       "87598      110658 2021-03-11 13:07:51    301.0      1048.0  VIEW_PRODUCT   \n",
       "87599      110658 2021-03-11 13:09:45    301.0      1143.0  VIEW_PRODUCT   \n",
       "87600      110658 2021-03-11 13:11:31    301.0      1110.0  VIEW_PRODUCT   \n",
       "87601      110658 2021-03-11 13:13:14    301.0      1141.0  VIEW_PRODUCT   \n",
       "87602      110658 2021-03-11 13:14:16      NaN      1141.0   BUY_PRODUCT   \n",
       "\n",
       "       offered_discount  purchase_id  \n",
       "0                    15          NaN  \n",
       "1                     5          NaN  \n",
       "2                     5          NaN  \n",
       "3                     5          NaN  \n",
       "4                     5          NaN  \n",
       "...                 ...          ...  \n",
       "87598                10          NaN  \n",
       "87599                10          NaN  \n",
       "87600                10          NaN  \n",
       "87601                10          NaN  \n",
       "87602                10      25368.0  \n",
       "\n",
       "[87603 rows x 7 columns]"
      ]
     },
     "execution_count": 2,
     "metadata": {},
     "output_type": "execute_result"
    }
   ],
   "source": [
    "# Dane wydarzeń sesji\n",
    "sessions_raw_data = pd.read_json(sessions_raw_filepath, lines=True)\n",
    "sessions_raw_data"
   ]
  },
  {
   "cell_type": "markdown",
   "metadata": {},
   "source": [
    "#### Liczba błędnych wierszy w bazie rekordów sesji"
   ]
  },
  {
   "cell_type": "code",
   "execution_count": 3,
   "metadata": {},
   "outputs": [
    {
     "name": "stdout",
     "output_type": "stream",
     "text": [
      "Liczba wierszy przed usunięciem błędnych danych:  87603\n",
      "Liczba wierszy po odzyskaniu i usunięciu błędnych danych:  83034\n",
      "Usuniętych danych: 5.22%\n"
     ]
    }
   ],
   "source": [
    "row_num_pre_drop = len(sessions_raw_data.index)\n",
    "print('Liczba wierszy przed usunięciem błędnych danych: ', row_num_pre_drop)\n",
    "\n",
    "data_cleaned = pd.read_json(sessions_filepath, lines=True)\n",
    "row_num_after_drop = len(data_cleaned.index)\n",
    "print('Liczba wierszy po odzyskaniu i usunięciu błędnych danych: ', row_num_after_drop)\n",
    "\n",
    "fraction_lost = (row_num_pre_drop - row_num_after_drop) / row_num_pre_drop\n",
    "print('Usuniętych danych: {:.2%}'.format(fraction_lost))"
   ]
  },
  {
   "cell_type": "markdown",
   "metadata": {},
   "source": [
    "#### Średnia liczba przejrzeń produktów dziennie\n",
    "Wliczane są uszkodzone rekordy, tzn. również te, w których brakuje części danych."
   ]
  },
  {
   "cell_type": "code",
   "execution_count": 4,
   "metadata": {},
   "outputs": [
    {
     "data": {
      "text/html": [
       "<div>\n",
       "<style scoped>\n",
       "    .dataframe tbody tr th:only-of-type {\n",
       "        vertical-align: middle;\n",
       "    }\n",
       "\n",
       "    .dataframe tbody tr th {\n",
       "        vertical-align: top;\n",
       "    }\n",
       "\n",
       "    .dataframe thead th {\n",
       "        text-align: right;\n",
       "    }\n",
       "</style>\n",
       "<table border=\"1\" class=\"dataframe\">\n",
       "  <thead>\n",
       "    <tr style=\"text-align: right;\">\n",
       "      <th></th>\n",
       "      <th>day</th>\n",
       "      <th>count</th>\n",
       "    </tr>\n",
       "  </thead>\n",
       "  <tbody>\n",
       "    <tr>\n",
       "      <th>3</th>\n",
       "      <td>2021-01-01</td>\n",
       "      <td>1484</td>\n",
       "    </tr>\n",
       "    <tr>\n",
       "      <th>29</th>\n",
       "      <td>2021-01-02</td>\n",
       "      <td>1155</td>\n",
       "    </tr>\n",
       "    <tr>\n",
       "      <th>0</th>\n",
       "      <td>2021-01-03</td>\n",
       "      <td>1663</td>\n",
       "    </tr>\n",
       "    <tr>\n",
       "      <th>13</th>\n",
       "      <td>2021-01-04</td>\n",
       "      <td>1316</td>\n",
       "    </tr>\n",
       "    <tr>\n",
       "      <th>11</th>\n",
       "      <td>2021-01-05</td>\n",
       "      <td>1337</td>\n",
       "    </tr>\n",
       "    <tr>\n",
       "      <th>...</th>\n",
       "      <td>...</td>\n",
       "      <td>...</td>\n",
       "    </tr>\n",
       "    <tr>\n",
       "      <th>14</th>\n",
       "      <td>2021-03-11</td>\n",
       "      <td>1314</td>\n",
       "    </tr>\n",
       "    <tr>\n",
       "      <th>28</th>\n",
       "      <td>2021-03-12</td>\n",
       "      <td>1179</td>\n",
       "    </tr>\n",
       "    <tr>\n",
       "      <th>2</th>\n",
       "      <td>2021-03-13</td>\n",
       "      <td>1614</td>\n",
       "    </tr>\n",
       "    <tr>\n",
       "      <th>12</th>\n",
       "      <td>2021-03-14</td>\n",
       "      <td>1325</td>\n",
       "    </tr>\n",
       "    <tr>\n",
       "      <th>73</th>\n",
       "      <td>2021-03-15</td>\n",
       "      <td>291</td>\n",
       "    </tr>\n",
       "  </tbody>\n",
       "</table>\n",
       "<p>74 rows × 2 columns</p>\n",
       "</div>"
      ],
      "text/plain": [
       "          day  count\n",
       "3  2021-01-01   1484\n",
       "29 2021-01-02   1155\n",
       "0  2021-01-03   1663\n",
       "13 2021-01-04   1316\n",
       "11 2021-01-05   1337\n",
       "..        ...    ...\n",
       "14 2021-03-11   1314\n",
       "28 2021-03-12   1179\n",
       "2  2021-03-13   1614\n",
       "12 2021-03-14   1325\n",
       "73 2021-03-15    291\n",
       "\n",
       "[74 rows x 2 columns]"
      ]
     },
     "execution_count": 4,
     "metadata": {},
     "output_type": "execute_result"
    }
   ],
   "source": [
    "# Ilość wyświetleń na dzień\n",
    "view_event_timestamps = sessions_raw_data[sessions_raw_data['event_type']=='VIEW_PRODUCT']['timestamp']\n",
    "view_events_per_day = (pd.to_datetime(view_event_timestamps)\n",
    "    .dt.floor('d')\n",
    "    .value_counts()\n",
    "    .rename_axis('day')\n",
    "    .reset_index(name='count')\n",
    "    .sort_values('day'))\n",
    "view_events_per_day"
   ]
  },
  {
   "cell_type": "code",
   "execution_count": 5,
   "metadata": {},
   "outputs": [
    {
     "data": {
      "text/plain": [
       "1123"
      ]
     },
     "execution_count": 5,
     "metadata": {},
     "output_type": "execute_result"
    }
   ],
   "source": [
    "# Średnia liczba wyświetleń na dzień\n",
    "mean_view_events_per_day = view_events_per_day['count'][:-1].mean()\n",
    "round(mean_view_events_per_day)"
   ]
  },
  {
   "cell_type": "markdown",
   "metadata": {},
   "source": [
    "Stąd wynika, że wzrost wyświetleń o 10% to około 115 wyświetleń (zaokrąglając w górę)."
   ]
  },
  {
   "cell_type": "markdown",
   "metadata": {},
   "source": [
    "#### Gęstość macierzy sąsiedztwa (adjacency matrix)"
   ]
  },
  {
   "cell_type": "code",
   "execution_count": 6,
   "metadata": {},
   "outputs": [],
   "source": [
    "# Załadowanie wyczyszczonych danych sesji\n",
    "sessions_data = pd.read_json(sessions_filepath, lines=True)\n",
    "# Podział rekordów na rekordy dotyczące VIEW oraz BUY\n",
    "views_data = sessions_data[sessions_data['event_type'].str.contains('VIEW_PRODUCT')]\n",
    "buy_data = sessions_data[sessions_data['event_type'].str.contains('BUY_PRODUCT')]"
   ]
  },
  {
   "cell_type": "code",
   "execution_count": 7,
   "metadata": {},
   "outputs": [],
   "source": [
    "# Macierze sąsiedztwa (z uwzględnieniem liczby przejrzeń i zakupów)\n",
    "view_adjacency_matrix = pd.crosstab(views_data['user_id'], views_data['product_id'])\n",
    "buy_adjacency_matrix = pd.crosstab(buy_data['user_id'], buy_data['product_id'])"
   ]
  },
  {
   "cell_type": "code",
   "execution_count": 8,
   "metadata": {},
   "outputs": [],
   "source": [
    "def get_uniques(df, column_name) -> set:\n",
    "    uniques = df[column_name].unique()\n",
    "    uniques.sort()\n",
    "    uniques = set(uniques)\n",
    "    return uniques\n",
    "    \n",
    "# Liczba unikalnych użytkowników i produktów w danych sesji\n",
    "items_in_sessions = get_uniques(sessions_data, 'product_id')\n",
    "users_in_sessions = get_uniques(sessions_data, 'user_id')"
   ]
  },
  {
   "cell_type": "code",
   "execution_count": 9,
   "metadata": {},
   "outputs": [
    {
     "name": "stdout",
     "output_type": "stream",
     "text": [
      "View density: 75.629%\n",
      "Buy density: 8.638%\n"
     ]
    }
   ],
   "source": [
    "total_possible_links = len(items_in_sessions)*len(users_in_sessions)\n",
    "\n",
    "# Obliczanie gęstości VIEW\n",
    "links_in_view_adjacency_matrix = view_adjacency_matrix.astype(bool).sum(axis=0).sum(axis=0)\n",
    "view_density = links_in_view_adjacency_matrix / total_possible_links\n",
    "# Obliczanie gęstości BUY\n",
    "links_in_buy_adjacency_matrix = buy_adjacency_matrix.astype(bool).sum(axis=0).sum(axis=0)\n",
    "buy_density = links_in_buy_adjacency_matrix / total_possible_links\n",
    "\n",
    "print(\"View density: {:.3%}\".format(view_density))\n",
    "print(\"Buy density: {:.3%}\".format(buy_density))"
   ]
  },
  {
   "cell_type": "markdown",
   "metadata": {},
   "source": [
    "#### Rozkład kategorii produktów w danych sesji"
   ]
  },
  {
   "cell_type": "code",
   "execution_count": 10,
   "metadata": {},
   "outputs": [],
   "source": [
    "# Załadowanie wyczyszczonych danych sesji i produktów\n",
    "sessions_data = pd.read_json(sessions_filepath, lines=True)\n",
    "products_data = pd.read_json(products_filepath, lines=True)"
   ]
  },
  {
   "cell_type": "code",
   "execution_count": 11,
   "metadata": {},
   "outputs": [
    {
     "data": {
      "text/html": [
       "<div>\n",
       "<style scoped>\n",
       "    .dataframe tbody tr th:only-of-type {\n",
       "        vertical-align: middle;\n",
       "    }\n",
       "\n",
       "    .dataframe tbody tr th {\n",
       "        vertical-align: top;\n",
       "    }\n",
       "\n",
       "    .dataframe thead th {\n",
       "        text-align: right;\n",
       "    }\n",
       "</style>\n",
       "<table border=\"1\" class=\"dataframe\">\n",
       "  <thead>\n",
       "    <tr style=\"text-align: right;\">\n",
       "      <th></th>\n",
       "      <th>session_id</th>\n",
       "      <th>user_id</th>\n",
       "      <th>event_type</th>\n",
       "      <th>category_path</th>\n",
       "    </tr>\n",
       "  </thead>\n",
       "  <tbody>\n",
       "    <tr>\n",
       "      <th>0</th>\n",
       "      <td>100002</td>\n",
       "      <td>102</td>\n",
       "      <td>VIEW_PRODUCT</td>\n",
       "      <td>Sprzęt RTV;Video;Telewizory i akcesoria;Anteny...</td>\n",
       "    </tr>\n",
       "    <tr>\n",
       "      <th>1</th>\n",
       "      <td>100002</td>\n",
       "      <td>102</td>\n",
       "      <td>VIEW_PRODUCT</td>\n",
       "      <td>Sprzęt RTV;Video;Telewizory i akcesoria;Anteny...</td>\n",
       "    </tr>\n",
       "    <tr>\n",
       "      <th>2</th>\n",
       "      <td>100002</td>\n",
       "      <td>102</td>\n",
       "      <td>VIEW_PRODUCT</td>\n",
       "      <td>Sprzęt RTV;Video;Telewizory i akcesoria;Anteny...</td>\n",
       "    </tr>\n",
       "    <tr>\n",
       "      <th>3</th>\n",
       "      <td>100002</td>\n",
       "      <td>102</td>\n",
       "      <td>VIEW_PRODUCT</td>\n",
       "      <td>Sprzęt RTV;Video;Telewizory i akcesoria;Anteny...</td>\n",
       "    </tr>\n",
       "    <tr>\n",
       "      <th>4</th>\n",
       "      <td>100003</td>\n",
       "      <td>102</td>\n",
       "      <td>VIEW_PRODUCT</td>\n",
       "      <td>Telefony i akcesoria;Akcesoria telefoniczne;Ze...</td>\n",
       "    </tr>\n",
       "    <tr>\n",
       "      <th>...</th>\n",
       "      <td>...</td>\n",
       "      <td>...</td>\n",
       "      <td>...</td>\n",
       "      <td>...</td>\n",
       "    </tr>\n",
       "    <tr>\n",
       "      <th>83029</th>\n",
       "      <td>110658</td>\n",
       "      <td>301</td>\n",
       "      <td>VIEW_PRODUCT</td>\n",
       "      <td>Gry i konsole;Gry komputerowe</td>\n",
       "    </tr>\n",
       "    <tr>\n",
       "      <th>83030</th>\n",
       "      <td>110658</td>\n",
       "      <td>301</td>\n",
       "      <td>VIEW_PRODUCT</td>\n",
       "      <td>Gry i konsole;Gry komputerowe</td>\n",
       "    </tr>\n",
       "    <tr>\n",
       "      <th>83031</th>\n",
       "      <td>110658</td>\n",
       "      <td>301</td>\n",
       "      <td>VIEW_PRODUCT</td>\n",
       "      <td>Gry i konsole;Gry komputerowe</td>\n",
       "    </tr>\n",
       "    <tr>\n",
       "      <th>83032</th>\n",
       "      <td>110658</td>\n",
       "      <td>301</td>\n",
       "      <td>VIEW_PRODUCT</td>\n",
       "      <td>Gry i konsole;Gry komputerowe</td>\n",
       "    </tr>\n",
       "    <tr>\n",
       "      <th>83033</th>\n",
       "      <td>110658</td>\n",
       "      <td>301</td>\n",
       "      <td>BUY_PRODUCT</td>\n",
       "      <td>Gry i konsole;Gry komputerowe</td>\n",
       "    </tr>\n",
       "  </tbody>\n",
       "</table>\n",
       "<p>83034 rows × 4 columns</p>\n",
       "</div>"
      ],
      "text/plain": [
       "       session_id  user_id    event_type  \\\n",
       "0          100002      102  VIEW_PRODUCT   \n",
       "1          100002      102  VIEW_PRODUCT   \n",
       "2          100002      102  VIEW_PRODUCT   \n",
       "3          100002      102  VIEW_PRODUCT   \n",
       "4          100003      102  VIEW_PRODUCT   \n",
       "...           ...      ...           ...   \n",
       "83029      110658      301  VIEW_PRODUCT   \n",
       "83030      110658      301  VIEW_PRODUCT   \n",
       "83031      110658      301  VIEW_PRODUCT   \n",
       "83032      110658      301  VIEW_PRODUCT   \n",
       "83033      110658      301   BUY_PRODUCT   \n",
       "\n",
       "                                           category_path  \n",
       "0      Sprzęt RTV;Video;Telewizory i akcesoria;Anteny...  \n",
       "1      Sprzęt RTV;Video;Telewizory i akcesoria;Anteny...  \n",
       "2      Sprzęt RTV;Video;Telewizory i akcesoria;Anteny...  \n",
       "3      Sprzęt RTV;Video;Telewizory i akcesoria;Anteny...  \n",
       "4      Telefony i akcesoria;Akcesoria telefoniczne;Ze...  \n",
       "...                                                  ...  \n",
       "83029                      Gry i konsole;Gry komputerowe  \n",
       "83030                      Gry i konsole;Gry komputerowe  \n",
       "83031                      Gry i konsole;Gry komputerowe  \n",
       "83032                      Gry i konsole;Gry komputerowe  \n",
       "83033                      Gry i konsole;Gry komputerowe  \n",
       "\n",
       "[83034 rows x 4 columns]"
      ]
     },
     "execution_count": 11,
     "metadata": {},
     "output_type": "execute_result"
    }
   ],
   "source": [
    "# Złączenie danych sesji i produktów\n",
    "session_join_products = sessions_data.join(products_data.set_index('product_id'), on='product_id', how='left')\n",
    "session_join_products = session_join_products[['session_id', 'user_id', 'event_type', 'category_path']]\n",
    "session_join_products"
   ]
  },
  {
   "cell_type": "code",
   "execution_count": 12,
   "metadata": {},
   "outputs": [
    {
     "data": {
      "text/plain": [
       "Gry i konsole;Gry komputerowe                                        0.413782\n",
       "Gry i konsole;Gry na konsole;Gry Xbox 360                            0.140388\n",
       "Sprzęt RTV;Video;Telewizory i akcesoria;Anteny RTV                   0.124323\n",
       "Komputery;Monitory;Monitory LCD                                      0.080003\n",
       "Komputery;Drukarki i skanery;Biurowe urządzenia wielofunkcyjne       0.044235\n",
       "Gry i konsole;Gry na konsole;Gry PlayStation3                        0.043115\n",
       "Telefony i akcesoria;Akcesoria telefoniczne;Zestawy głośnomówiące    0.028350\n",
       "Telefony i akcesoria;Akcesoria telefoniczne;Zestawy słuchawkowe      0.025146\n",
       "Komputery;Tablety i akcesoria;Tablety                                0.017041\n",
       "Telefony i akcesoria;Telefony komórkowe                              0.016981\n",
       "Sprzęt RTV;Przenośne audio i video;Odtwarzacze mp3 i mp4             0.015993\n",
       "Sprzęt RTV;Video;Odtwarzacze DVD                                     0.015379\n",
       "Sprzęt RTV;Video;Telewizory i akcesoria;Okulary 3D                   0.012272\n",
       "Sprzęt RTV;Audio;Słuchawki                                           0.011610\n",
       "Telefony i akcesoria;Telefony stacjonarne                            0.011381\n",
       "Name: category_path, dtype: float64"
      ]
     },
     "execution_count": 12,
     "metadata": {},
     "output_type": "execute_result"
    }
   ],
   "source": [
    "# Udział poszczególnych kategorii w danych sesji\n",
    "category_counts = session_join_products['category_path'].value_counts()\n",
    "categories_as_fractions_of_data_count = category_counts / len(session_join_products)\n",
    "categories_as_fractions_of_data_count"
   ]
  },
  {
   "cell_type": "code",
   "execution_count": 13,
   "metadata": {},
   "outputs": [
    {
     "data": {
      "text/plain": [
       "<AxesSubplot:>"
      ]
     },
     "execution_count": 13,
     "metadata": {},
     "output_type": "execute_result"
    },
    {
     "data": {
      "image/png": "[encoded data removed]",
      "text/plain": [
       "<Figure size 432x288 with 1 Axes>"
      ]
     },
     "metadata": {
      "needs_background": "light"
     },
     "output_type": "display_data"
    }
   ],
   "source": [
    "import matplotlib\n",
    "categories_as_fractions_of_data_count.plot(kind='bar')"
   ]
  },
  {
   "cell_type": "markdown",
   "metadata": {},
   "source": [
    "Dla porównania rozkład produktów:"
   ]
  },
  {
   "cell_type": "code",
   "execution_count": 14,
   "metadata": {},
   "outputs": [
    {
     "data": {
      "text/plain": [
       "<AxesSubplot:>"
      ]
     },
     "execution_count": 14,
     "metadata": {},
     "output_type": "execute_result"
    },
    {
     "data": {
      "image/png": "[encoded data removed]",
      "text/plain": [
       "<Figure size 432x288 with 1 Axes>"
      ]
     },
     "metadata": {
      "needs_background": "light"
     },
     "output_type": "display_data"
    }
   ],
   "source": [
    "category_counts = products_data['category_path'].value_counts()\n",
    "categories_as_fractions_of_data_count = category_counts / len(products_data)\n",
    "categories_as_fractions_of_data_count.plot(kind='bar')"
   ]
  },
  {
   "cell_type": "markdown",
   "metadata": {},
   "source": [
    "Wykresy są dość podobne. W obu dominują gry komputerowe i w obu ogólny rozkład jest taki sam. Dane sesji wyglądają więc realistycznie - klienci sklepu są zainteresowani pełną gamą produktów w stopniu, w jakim występują w sklepie.  \n",
    "Tego typu analizę można by kontynuować, zgłębiając się coraz bardziej w szczegóły. Dla zachowania porządku analiza rozkładów w tym dokumencie kończy się na tych dwóch najistotniejszych rozkładach."
   ]
  },
  {
   "cell_type": "markdown",
   "metadata": {},
   "source": [
    "#### Zależność danych od siebie\n",
    "Sprawdzenie, czy rekordy sesji są względem siebie zależne. Taka zależność, porównana do rozkładu losowego, pozwoli stwierdzić czy w danych przechowana jest jakaś informacja. Jeśli w danych jest zawarta informacja to można na ich podstawie wnioskować - tworzyć modele predykcyjne.\n",
    "\n",
    "Wykonane jest proste badanie zależności - prawdopodobieństwo, że następny obejrzany obiekt obejrzany przez użytkownika jest z tej samej kategorii co poprzedni."
   ]
  },
  {
   "cell_type": "code",
   "execution_count": 15,
   "metadata": {
    "tags": []
   },
   "outputs": [
    {
     "data": {
      "text/plain": [
       "0.8763841662924232"
      ]
     },
     "execution_count": 15,
     "metadata": {},
     "output_type": "execute_result"
    }
   ],
   "source": [
    "def calculate_view_product_category_coherency(sessions_with_categories: pd.DataFrame) -> float:\n",
    "    view_sessions_with_categories = sessions_with_categories[session_join_products['event_type']=='VIEW_PRODUCT']\n",
    "    users_in_sessions = get_uniques(view_sessions_with_categories, 'user_id')\n",
    "\n",
    "    same_category_count = 0\n",
    "    for user in users_in_sessions:\n",
    "        user_sessions = view_sessions_with_categories[view_sessions_with_categories['user_id']==user]\n",
    "        prev_row = None\n",
    "        for _, row in user_sessions.iterrows():\n",
    "            if prev_row is not None and prev_row['category_path'] == row['category_path']:\n",
    "                same_category_count += 1\n",
    "            prev_row = row\n",
    "    return same_category_count / len(view_sessions_with_categories)\n",
    "\n",
    "calculate_view_product_category_coherency(session_join_products)"
   ]
  },
  {
   "cell_type": "markdown",
   "metadata": {},
   "source": [
    "Dla porównania wartości wyliczone tą samą metodą dla losowo wygenerowanych sesji:"
   ]
  },
  {
   "cell_type": "code",
   "execution_count": 16,
   "metadata": {},
   "outputs": [
    {
     "name": "stdout",
     "output_type": "stream",
     "text": [
      "0.42319881952909477\n",
      "0.42564957977802015\n",
      "0.42287803939180085\n",
      "0.4257522294219542\n",
      "0.4258933726823635\n"
     ]
    }
   ],
   "source": [
    "def generate_random_sessions(users_data: pd.DataFrame, products_data: pd.DataFrame, df_length: int) -> pd.DataFrame:\n",
    "    # Getting a list of categories this way preserves the counts of categories\n",
    "    product_categories = products_data['category_path']\n",
    "    # Getting the list of users the same way gives unique values since the values in the column are unique\n",
    "    users = users_data['user_id']\n",
    "    \n",
    "    session_users_col = np.random.choice(users, df_length)\n",
    "    session_categories_col = np.random.choice(product_categories, df_length)\n",
    "    # We don't need anything else, really\n",
    "\n",
    "    fake_sessions = {'user_id': session_users_col, 'category_path': session_categories_col}\n",
    "    fake_sessions = pd.DataFrame(fake_sessions)\n",
    "    return fake_sessions\n",
    "    \n",
    "users_data = pd.read_json(users_filepath, lines=True)\n",
    "for _ in range(5):\n",
    "    fake_sessions = generate_random_sessions(users_data, products_data, len(session_join_products))\n",
    "    product_category_coherency = calculate_view_product_category_coherency(fake_sessions)\n",
    "    print(product_category_coherency)"
   ]
  },
  {
   "cell_type": "markdown",
   "metadata": {},
   "source": [
    "Na podstawie porównania różnic otrzymanych wartości można wnioskować, że w danych jest pewna zależność i nie składają się wyłącznie z losowego szumu. Na postawie tego stwierdzenia można uznawać, że model uczenia maszynowego jest w stanie wnioskować na podstawie zadanych danych."
   ]
  }
 ],
 "metadata": {
  "kernelspec": {
   "display_name": "Python 3",
   "language": "python",
   "name": "python3"
  },
  "language_info": {
   "codemirror_mode": {
    "name": "ipython",
    "version": 3
   },
   "file_extension": ".py",
   "mimetype": "text/x-python",
   "name": "python",
   "nbconvert_exporter": "python",
   "pygments_lexer": "ipython3",
   "version": "3.9.2"
  }
 },
 "nbformat": 4,
 "nbformat_minor": 2
}
