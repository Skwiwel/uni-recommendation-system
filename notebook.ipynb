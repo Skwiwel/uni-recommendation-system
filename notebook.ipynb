{
 "metadata": {
  "language_info": {
   "codemirror_mode": {
    "name": "ipython",
    "version": 3
   },
   "file_extension": ".py",
   "mimetype": "text/x-python",
   "name": "python",
   "nbconvert_exporter": "python",
   "pygments_lexer": "ipython3",
   "version": "3.9.2-final"
  },
  "orig_nbformat": 2,
  "kernelspec": {
   "name": "python3",
   "display_name": "Python 3.9.2 64-bit ('env')",
   "metadata": {
    "interpreter": {
     "hash": "dbb75448b7a0532f8e064e57b28c280be0d7b039aa067963504bfbfd0b59d304"
    }
   }
  }
 },
 "nbformat": 4,
 "nbformat_minor": 2,
 "cells": [
  {
   "source": [
    "# IUM projekt - temat 2\n",
    "\n",
    "## Treść zadania\n",
    "> Są osoby, które wchodzą na naszą stronę i nie mogą się zdecydować, którym produktom przyjrzeć się nieco lepiej. Może dało by się im coś polecić?"
   ],
   "cell_type": "markdown",
   "metadata": {}
  },
  {
   "source": [
    "### Obliczenia\n",
    "Poniżej znajdują się obliczenia, na których oparte zostały wartości liczbowe z powyższego raportu. Wszystkie obliczenia dotyczą bazy rekordów wydarzeń sesji."
   ],
   "cell_type": "markdown",
   "metadata": {}
  },
  {
   "cell_type": "code",
   "execution_count": 6,
   "metadata": {},
   "outputs": [],
   "source": [
    "import numpy as np\n",
    "import pandas as pd\n",
    "\n",
    "data_raw_dir = 'data_raw/'\n",
    "data_dir = 'data/'\n",
    "sessions_file = 'sessions.jsonl'\n",
    "sessions_raw_filepath = data_raw_dir + sessions_file\n",
    "sessions_filepath = data_dir + sessions_file"
   ]
  },
  {
   "cell_type": "code",
   "execution_count": 7,
   "metadata": {},
   "outputs": [
    {
     "output_type": "execute_result",
     "data": {
      "text/plain": [
       "       session_id           timestamp  user_id  product_id    event_type  \\\n",
       "0          100001 2021-01-26 00:42:30      NaN      1001.0  VIEW_PRODUCT   \n",
       "1          100002 2021-01-05 04:28:35    102.0      1308.0  VIEW_PRODUCT   \n",
       "2          100002 2021-01-05 04:29:28    102.0      1297.0  VIEW_PRODUCT   \n",
       "3          100002 2021-01-05 04:31:43    102.0      1291.0  VIEW_PRODUCT   \n",
       "4          100002 2021-01-05 04:34:16    102.0      1313.0  VIEW_PRODUCT   \n",
       "...           ...                 ...      ...         ...           ...   \n",
       "87598      110658 2021-03-11 13:07:51    301.0      1048.0  VIEW_PRODUCT   \n",
       "87599      110658 2021-03-11 13:09:45    301.0      1143.0  VIEW_PRODUCT   \n",
       "87600      110658 2021-03-11 13:11:31    301.0      1110.0  VIEW_PRODUCT   \n",
       "87601      110658 2021-03-11 13:13:14    301.0      1141.0  VIEW_PRODUCT   \n",
       "87602      110658 2021-03-11 13:14:16      NaN      1141.0   BUY_PRODUCT   \n",
       "\n",
       "       offered_discount  purchase_id  \n",
       "0                    15          NaN  \n",
       "1                     5          NaN  \n",
       "2                     5          NaN  \n",
       "3                     5          NaN  \n",
       "4                     5          NaN  \n",
       "...                 ...          ...  \n",
       "87598                10          NaN  \n",
       "87599                10          NaN  \n",
       "87600                10          NaN  \n",
       "87601                10          NaN  \n",
       "87602                10      25368.0  \n",
       "\n",
       "[87603 rows x 7 columns]"
      ],
      "text/html": "<div>\n<style scoped>\n    .dataframe tbody tr th:only-of-type {\n        vertical-align: middle;\n    }\n\n    .dataframe tbody tr th {\n        vertical-align: top;\n    }\n\n    .dataframe thead th {\n        text-align: right;\n    }\n</style>\n<table border=\"1\" class=\"dataframe\">\n  <thead>\n    <tr style=\"text-align: right;\">\n      <th></th>\n      <th>session_id</th>\n      <th>timestamp</th>\n      <th>user_id</th>\n      <th>product_id</th>\n      <th>event_type</th>\n      <th>offered_discount</th>\n      <th>purchase_id</th>\n    </tr>\n  </thead>\n  <tbody>\n    <tr>\n      <th>0</th>\n      <td>100001</td>\n      <td>2021-01-26 00:42:30</td>\n      <td>NaN</td>\n      <td>1001.0</td>\n      <td>VIEW_PRODUCT</td>\n      <td>15</td>\n      <td>NaN</td>\n    </tr>\n    <tr>\n      <th>1</th>\n      <td>100002</td>\n      <td>2021-01-05 04:28:35</td>\n      <td>102.0</td>\n      <td>1308.0</td>\n      <td>VIEW_PRODUCT</td>\n      <td>5</td>\n      <td>NaN</td>\n    </tr>\n    <tr>\n      <th>2</th>\n      <td>100002</td>\n      <td>2021-01-05 04:29:28</td>\n      <td>102.0</td>\n      <td>1297.0</td>\n      <td>VIEW_PRODUCT</td>\n      <td>5</td>\n      <td>NaN</td>\n    </tr>\n    <tr>\n      <th>3</th>\n      <td>100002</td>\n      <td>2021-01-05 04:31:43</td>\n      <td>102.0</td>\n      <td>1291.0</td>\n      <td>VIEW_PRODUCT</td>\n      <td>5</td>\n      <td>NaN</td>\n    </tr>\n    <tr>\n      <th>4</th>\n      <td>100002</td>\n      <td>2021-01-05 04:34:16</td>\n      <td>102.0</td>\n      <td>1313.0</td>\n      <td>VIEW_PRODUCT</td>\n      <td>5</td>\n      <td>NaN</td>\n    </tr>\n    <tr>\n      <th>...</th>\n      <td>...</td>\n      <td>...</td>\n      <td>...</td>\n      <td>...</td>\n      <td>...</td>\n      <td>...</td>\n      <td>...</td>\n    </tr>\n    <tr>\n      <th>87598</th>\n      <td>110658</td>\n      <td>2021-03-11 13:07:51</td>\n      <td>301.0</td>\n      <td>1048.0</td>\n      <td>VIEW_PRODUCT</td>\n      <td>10</td>\n      <td>NaN</td>\n    </tr>\n    <tr>\n      <th>87599</th>\n      <td>110658</td>\n      <td>2021-03-11 13:09:45</td>\n      <td>301.0</td>\n      <td>1143.0</td>\n      <td>VIEW_PRODUCT</td>\n      <td>10</td>\n      <td>NaN</td>\n    </tr>\n    <tr>\n      <th>87600</th>\n      <td>110658</td>\n      <td>2021-03-11 13:11:31</td>\n      <td>301.0</td>\n      <td>1110.0</td>\n      <td>VIEW_PRODUCT</td>\n      <td>10</td>\n      <td>NaN</td>\n    </tr>\n    <tr>\n      <th>87601</th>\n      <td>110658</td>\n      <td>2021-03-11 13:13:14</td>\n      <td>301.0</td>\n      <td>1141.0</td>\n      <td>VIEW_PRODUCT</td>\n      <td>10</td>\n      <td>NaN</td>\n    </tr>\n    <tr>\n      <th>87602</th>\n      <td>110658</td>\n      <td>2021-03-11 13:14:16</td>\n      <td>NaN</td>\n      <td>1141.0</td>\n      <td>BUY_PRODUCT</td>\n      <td>10</td>\n      <td>25368.0</td>\n    </tr>\n  </tbody>\n</table>\n<p>87603 rows × 7 columns</p>\n</div>"
     },
     "metadata": {},
     "execution_count": 7
    }
   ],
   "source": [
    "# Dane wydarzeń sesji\n",
    "sessions_raw_data = pd.read_json(sessions_raw_filepath, lines=True)\n",
    "sessions_raw_data"
   ]
  },
  {
   "source": [
    "#### Ilość błędnych wierszy w bazie rekordów sesji"
   ],
   "cell_type": "markdown",
   "metadata": {}
  },
  {
   "cell_type": "code",
   "execution_count": 8,
   "metadata": {},
   "outputs": [
    {
     "output_type": "stream",
     "name": "stdout",
     "text": [
      "Ilość wierszy przed usunięciem błędnych danych:  87603\n",
      "Ilość wierszy po odzyskaniu i usunięciu błędnych danych:  83034\n",
      "Usuniętych danych: 5.22%\n"
     ]
    }
   ],
   "source": [
    "row_num_pre_drop = len(sessions_raw_data.index)\n",
    "print('Ilość wierszy przed usunięciem błędnych danych: ', row_num_pre_drop)\n",
    "\n",
    "data_cleaned = pd.read_json(sessions_filepath, lines=True)\n",
    "row_num_after_drop = len(data_cleaned.index)\n",
    "print('Ilość wierszy po odzyskaniu i usunięciu błędnych danych: ', row_num_after_drop)\n",
    "\n",
    "fraction_lost = (row_num_pre_drop - row_num_after_drop) / row_num_pre_drop\n",
    "print('Usuniętych danych: {:.2%}'.format(fraction_lost))"
   ]
  },
  {
   "source": [
    "#### Średnia ilość przejrzeń produktów dziennie\n",
    "Wliczane są dane uszkodzone, tzn. również te, w których brakuje części danych."
   ],
   "cell_type": "markdown",
   "metadata": {}
  },
  {
   "cell_type": "code",
   "execution_count": 9,
   "metadata": {},
   "outputs": [
    {
     "output_type": "execute_result",
     "data": {
      "text/plain": [
       "          day  count\n",
       "3  2021-01-01   1484\n",
       "29 2021-01-02   1155\n",
       "0  2021-01-03   1663\n",
       "13 2021-01-04   1316\n",
       "11 2021-01-05   1337\n",
       "..        ...    ...\n",
       "14 2021-03-11   1314\n",
       "28 2021-03-12   1179\n",
       "2  2021-03-13   1614\n",
       "12 2021-03-14   1325\n",
       "73 2021-03-15    291\n",
       "\n",
       "[74 rows x 2 columns]"
      ],
      "text/html": "<div>\n<style scoped>\n    .dataframe tbody tr th:only-of-type {\n        vertical-align: middle;\n    }\n\n    .dataframe tbody tr th {\n        vertical-align: top;\n    }\n\n    .dataframe thead th {\n        text-align: right;\n    }\n</style>\n<table border=\"1\" class=\"dataframe\">\n  <thead>\n    <tr style=\"text-align: right;\">\n      <th></th>\n      <th>day</th>\n      <th>count</th>\n    </tr>\n  </thead>\n  <tbody>\n    <tr>\n      <th>3</th>\n      <td>2021-01-01</td>\n      <td>1484</td>\n    </tr>\n    <tr>\n      <th>29</th>\n      <td>2021-01-02</td>\n      <td>1155</td>\n    </tr>\n    <tr>\n      <th>0</th>\n      <td>2021-01-03</td>\n      <td>1663</td>\n    </tr>\n    <tr>\n      <th>13</th>\n      <td>2021-01-04</td>\n      <td>1316</td>\n    </tr>\n    <tr>\n      <th>11</th>\n      <td>2021-01-05</td>\n      <td>1337</td>\n    </tr>\n    <tr>\n      <th>...</th>\n      <td>...</td>\n      <td>...</td>\n    </tr>\n    <tr>\n      <th>14</th>\n      <td>2021-03-11</td>\n      <td>1314</td>\n    </tr>\n    <tr>\n      <th>28</th>\n      <td>2021-03-12</td>\n      <td>1179</td>\n    </tr>\n    <tr>\n      <th>2</th>\n      <td>2021-03-13</td>\n      <td>1614</td>\n    </tr>\n    <tr>\n      <th>12</th>\n      <td>2021-03-14</td>\n      <td>1325</td>\n    </tr>\n    <tr>\n      <th>73</th>\n      <td>2021-03-15</td>\n      <td>291</td>\n    </tr>\n  </tbody>\n</table>\n<p>74 rows × 2 columns</p>\n</div>"
     },
     "metadata": {},
     "execution_count": 9
    }
   ],
   "source": [
    "# Ilość wyświetleń na dzień\n",
    "view_event_timestamps = sessions_raw_data[sessions_raw_data['event_type']=='VIEW_PRODUCT']['timestamp']\n",
    "view_events_per_day = (pd.to_datetime(view_event_timestamps)\n",
    "    .dt.floor('d')\n",
    "    .value_counts()\n",
    "    .rename_axis('day')\n",
    "    .reset_index(name='count')\n",
    "    .sort_values('day'))\n",
    "view_events_per_day"
   ]
  },
  {
   "cell_type": "code",
   "execution_count": 10,
   "metadata": {},
   "outputs": [
    {
     "output_type": "execute_result",
     "data": {
      "text/plain": [
       "1123"
      ]
     },
     "metadata": {},
     "execution_count": 10
    }
   ],
   "source": [
    "# Średnia ilość wyświetleń na dzień\n",
    "mean_view_events_per_day = view_events_per_day['count'][:-1].mean()\n",
    "round(mean_view_events_per_day)"
   ]
  },
  {
   "source": [
    "Stąd wynika, że wzrost wyświetleń o 10% to około 115 wyświetleń (zaokrąglając w górę)."
   ],
   "cell_type": "markdown",
   "metadata": {}
  }
 ]
}