{
 "metadata": {
  "language_info": {
   "codemirror_mode": {
    "name": "ipython",
    "version": 3
   },
   "file_extension": ".py",
   "mimetype": "text/x-python",
   "name": "python",
   "nbconvert_exporter": "python",
   "pygments_lexer": "ipython3",
   "version": "3.9.2-final"
  },
  "orig_nbformat": 2,
  "kernelspec": {
   "name": "python3",
   "display_name": "Python 3.9.2 64-bit ('env')",
   "metadata": {
    "interpreter": {
     "hash": "dbb75448b7a0532f8e064e57b28c280be0d7b039aa067963504bfbfd0b59d304"
    }
   }
  }
 },
 "nbformat": 4,
 "nbformat_minor": 2,
 "cells": [
  {
   "source": [
    "# IUM projekt - temat 2\n",
    "\n",
    "## Treść zadania\n",
    "> Są osoby, które wchodzą na naszą stronę i nie mogą się zdecydować, którym produktom przyjrzeć się nieco lepiej. Może dało by się im coś polecić?"
   ],
   "cell_type": "markdown",
   "metadata": {}
  },
  {
   "source": [
    "### Obliczenia\n",
    "Poniżej znajdują się obliczenia, na których oparte zostały wartości liczbowe z powyższego raportu. Wszystkie obliczenia dotyczą bazy rekordów wydarzeń sesji."
   ],
   "cell_type": "markdown",
   "metadata": {}
  },
  {
   "cell_type": "code",
   "execution_count": 3,
   "metadata": {},
   "outputs": [],
   "source": [
    "import numpy as np\n",
    "import pandas as pd\n",
    "\n",
    "data_raw_dir = 'data_raw/'\n",
    "data_dir = 'data/'\n",
    "sessions_file = 'sessions.jsonl'\n",
    "sessions_raw_filepath = data_raw_dir + sessions_file\n",
    "sessions_filepath = data_dir + sessions_file"
   ]
  },
  {
   "cell_type": "code",
   "execution_count": null,
   "metadata": {},
   "outputs": [],
   "source": [
    "# Dane wydarzeń sesji\n",
    "sessions_raw_data = pd.read_json(sessions_raw_filepath, lines=True)\n",
    "sessions_raw_data"
   ]
  },
  {
   "source": [
    "#### Ilość błędnych wierszy w bazie rekordów sesji"
   ],
   "cell_type": "markdown",
   "metadata": {}
  },
  {
   "cell_type": "code",
   "execution_count": null,
   "metadata": {},
   "outputs": [],
   "source": [
    "row_num_pre_drop = len(sessions_raw_data.index)\n",
    "print('Ilość wierszy przed usunięciem błędnych danych: ', row_num_pre_drop)\n",
    "\n",
    "data_cleaned = pd.read_json(sessions_filepath, lines=True)\n",
    "row_num_after_drop = len(data_cleaned.index)\n",
    "print('Ilość wierszy po odzyskaniu i usunięciu błędnych danych: ', row_num_after_drop)\n",
    "\n",
    "fraction_lost = (row_num_pre_drop - row_num_after_drop) / row_num_pre_drop\n",
    "print('Usuniętych danych: {:.2%}'.format(fraction_lost))"
   ]
  },
  {
   "source": [
    "#### Średnia ilość przejrzeń produktów dziennie\n",
    "Wliczane są dane uszkodzone, tzn. również te, w których brakuje części danych."
   ],
   "cell_type": "markdown",
   "metadata": {}
  },
  {
   "cell_type": "code",
   "execution_count": null,
   "metadata": {},
   "outputs": [],
   "source": [
    "# Ilość wyświetleń na dzień\n",
    "view_event_timestamps = sessions_raw_data[sessions_raw_data['event_type']=='VIEW_PRODUCT']['timestamp']\n",
    "view_events_per_day = (pd.to_datetime(view_event_timestamps)\n",
    "    .dt.floor('d')\n",
    "    .value_counts()\n",
    "    .rename_axis('day')\n",
    "    .reset_index(name='count')\n",
    "    .sort_values('day'))\n",
    "view_events_per_day"
   ]
  },
  {
   "cell_type": "code",
   "execution_count": null,
   "metadata": {},
   "outputs": [],
   "source": [
    "# Średnia ilość wyświetleń na dzień\n",
    "mean_view_events_per_day = view_events_per_day['count'][:-1].mean()\n",
    "round(mean_view_events_per_day)"
   ]
  },
  {
   "source": [
    "Stąd wynika, że wzrost wyświetleń o 10% to około 115 wyświetleń (zaokrąglając w górę)."
   ],
   "cell_type": "markdown",
   "metadata": {}
  },
  {
   "source": [
    "#### Gęstość macierzy sąsiedztwa (adjacency matrix)"
   ],
   "cell_type": "markdown",
   "metadata": {}
  },
  {
   "cell_type": "code",
   "execution_count": 4,
   "metadata": {},
   "outputs": [],
   "source": [
    "# Załadowanie wyczyszczonych danych sesji\n",
    "sessions_data = pd.read_json(sessions_filepath, lines=True)\n",
    "# Podział rekordów na rekordy dotyczące VIEW oraz BUY\n",
    "views_data = sessions_data[sessions_data['event_type'].str.contains('VIEW_PRODUCT')]\n",
    "buy_data = sessions_data[sessions_data['event_type'].str.contains('BUY_PRODUCT')]"
   ]
  },
  {
   "cell_type": "code",
   "execution_count": 5,
   "metadata": {},
   "outputs": [],
   "source": [
    "# Macierze sąsiedztwa (z uwzględnieniem liczby przejrzeń i zakupów)\n",
    "view_adjacency_matrix = pd.crosstab(views_data['user_id'], views_data['product_id'])\n",
    "buy_adjacency_matrix = pd.crosstab(buy_data['user_id'], buy_data['product_id'])"
   ]
  },
  {
   "cell_type": "code",
   "execution_count": 8,
   "metadata": {},
   "outputs": [],
   "source": [
    "def get_uniques(df, column_name) -> set:\n",
    "    uniques = df[column_name].unique()\n",
    "    uniques.sort()\n",
    "    uniques = set(uniques)\n",
    "    return uniques\n",
    "    \n",
    "# Ilości unikalnych użytkowników i produktów w danych sesji\n",
    "items_in_sessions = get_uniques(sessions_data, 'product_id')\n",
    "users_in_sessions = get_uniques(sessions_data, 'user_id')"
   ]
  },
  {
   "cell_type": "code",
   "execution_count": 10,
   "metadata": {},
   "outputs": [
    {
     "output_type": "stream",
     "name": "stdout",
     "text": [
      "View density: 75.629%\nBuy density: 8.638%\n"
     ]
    }
   ],
   "source": [
    "total_possible_links = len(items_in_sessions)*len(users_in_sessions)\n",
    "\n",
    "# Obliczanie gęstości VIEW\n",
    "links_in_view_adjacency_matrix = view_adjacency_matrix.astype(bool).sum(axis=0).sum(axis=0)\n",
    "view_density = links_in_view_adjacency_matrix / total_possible_links\n",
    "# Obliczanie gęstości BUY\n",
    "links_in_buy_adjacency_matrix = buy_adjacency_matrix.astype(bool).sum(axis=0).sum(axis=0)\n",
    "buy_density = links_in_buy_adjacency_matrix / total_possible_links\n",
    "\n",
    "print(\"View density: {:.3%}\".format(view_density))\n",
    "print(\"Buy density: {:.3%}\".format(buy_density))"
   ]
  }
 ]
}