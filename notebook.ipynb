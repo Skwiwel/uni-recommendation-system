{
 "metadata": {
  "language_info": {
   "codemirror_mode": {
    "name": "ipython",
    "version": 3
   },
   "file_extension": ".py",
   "mimetype": "text/x-python",
   "name": "python",
   "nbconvert_exporter": "python",
   "pygments_lexer": "ipython3",
   "version": "3.9.2-final"
  },
  "orig_nbformat": 2,
  "kernelspec": {
   "name": "python3",
   "display_name": "Python 3.9.2 64-bit ('env')",
   "metadata": {
    "interpreter": {
     "hash": "dbb75448b7a0532f8e064e57b28c280be0d7b039aa067963504bfbfd0b59d304"
    }
   }
  }
 },
 "nbformat": 4,
 "nbformat_minor": 2,
 "cells": [
  {
   "source": [
    "# IUM projekt - temat 2\n",
    "\n",
    "## Treść zadania\n",
    "> Są osoby, które wchodzą na naszą stronę i nie mogą się zdecydować, którym produktom przyjrzeć się nieco lepiej. Może dało by się im coś polecić?"
   ],
   "cell_type": "markdown",
   "metadata": {}
  },
  {
   "source": [
    "### Obliczenia\n",
    "Poniżej znajdują się obliczenia, na których oparte zostały wartości liczbowe z powyższego raportu. Wszystkie obliczenia dotyczą bazy rekordów wydarzeń sesji."
   ],
   "cell_type": "markdown",
   "metadata": {}
  },
  {
   "cell_type": "code",
   "execution_count": null,
   "metadata": {},
   "outputs": [],
   "source": [
    "import numpy as np\n",
    "import pandas as pd\n",
    "\n",
    "data_dir = 'data_raw/'\n",
    "sessions_filepath = data_dir + 'sessions.jsonl'"
   ]
  },
  {
   "cell_type": "code",
   "execution_count": null,
   "metadata": {},
   "outputs": [],
   "source": [
    "# Dane wydarzeń sesji\n",
    "sessions_raw_data = pd.read_json(sessions_filepath, lines=True)\n",
    "sessions_raw_data"
   ]
  },
  {
   "source": [
    "#### Ilość błędnych wierszy w bazie rekordów sesji"
   ],
   "cell_type": "markdown",
   "metadata": {}
  },
  {
   "cell_type": "code",
   "execution_count": null,
   "metadata": {},
   "outputs": [],
   "source": [
    "row_num_pre_drop = len(sessions_raw_data.index)\n",
    "print('Ilość wierszy przed usunięciem błędnych danych: ', row_num_pre_drop)\n",
    "\n",
    "data = sessions_raw_data.drop(columns=['offered_discount', 'purchase_id'])\n",
    "data = data.dropna()\n",
    "row_num_after_drop = len(data.index)\n",
    "print('Ilość wierszy po usunięciu błędnych danych: ', row_num_after_drop)\n",
    "\n",
    "fraction_lost = (row_num_pre_drop - row_num_after_drop) / row_num_pre_drop\n",
    "print('Usuniętych danych: {:.2%}'.format(fraction_lost))"
   ]
  },
  {
   "source": [
    "#### Średnia ilość przejrzeń produktów dziennie\n",
    "Wliczane są dane uszkodzone, tzn. również te, w których brakuje części danych."
   ],
   "cell_type": "markdown",
   "metadata": {}
  },
  {
   "cell_type": "code",
   "execution_count": null,
   "metadata": {},
   "outputs": [],
   "source": [
    "# Ilość wyświetleń na dzień\n",
    "view_event_timestamps = sessions_raw_data[sessions_raw_data['event_type']=='VIEW_PRODUCT']['timestamp']\n",
    "view_events_per_day = (pd.to_datetime(view_event_timestamps)\n",
    "    .dt.floor('d')\n",
    "    .value_counts()\n",
    "    .rename_axis('day')\n",
    "    .reset_index(name='count')\n",
    "    .sort_values('day'))\n",
    "view_events_per_day"
   ]
  },
  {
   "cell_type": "code",
   "execution_count": null,
   "metadata": {},
   "outputs": [],
   "source": [
    "# Średnia ilość wyświetleń na dzień\n",
    "mean_view_events_per_day = view_events_per_day['count'][:-1].mean()\n",
    "round(mean_view_events_per_day)"
   ]
  },
  {
   "source": [
    "Stąd wynika, że wzrost wyświetleń o 10% to około 115 wyświetleń (zaokrąglając w górę)."
   ],
   "cell_type": "markdown",
   "metadata": {}
  }
 ]
}