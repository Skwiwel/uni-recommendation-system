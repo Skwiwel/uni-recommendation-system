{
 "metadata": {
  "language_info": {
   "codemirror_mode": {
    "name": "ipython",
    "version": 3
   },
   "file_extension": ".py",
   "mimetype": "text/x-python",
   "name": "python",
   "nbconvert_exporter": "python",
   "pygments_lexer": "ipython3",
   "version": "3.9.2-final"
  },
  "orig_nbformat": 2,
  "kernelspec": {
   "name": "python3",
   "display_name": "Python 3.9.2 64-bit ('env')",
   "metadata": {
    "interpreter": {
     "hash": "dbb75448b7a0532f8e064e57b28c280be0d7b039aa067963504bfbfd0b59d304"
    }
   }
  }
 },
 "nbformat": 4,
 "nbformat_minor": 2,
 "cells": [
  {
   "source": [
    "# IUM projekt - etap 2\n",
    "### Jakub Grzechociński  \n",
    "### Piotr Sawicki\n"
   ],
   "cell_type": "markdown",
   "metadata": {}
  },
  {
   "source": [
    "## Treść zadania\n",
    "> Są osoby, które wchodzą na naszą stronę i nie mogą się zdecydować, którym produktom przyjrzeć się nieco lepiej. Może dało by się im coś polecić?\n",
    "\n",
    "## Streszczenie etapu pierwszego\n",
    "Do stworzenia jest system oferujący usługę rekomendacji produktów dla klientów sklepu internetowego. System opiera swoje działanie na danych przejrzeń i zakupów produktów przez użytkowników sklepu oraz na danych samych produktów.\n",
    "\n",
    "System oferuje rekomendacje na podstawie dwóch oddzielnych modeli:\n",
    "- `popularnościowy` bazujący na względnej popularności produktów i kategorii oraz preferencji użytkownika\n",
    "- `collaborative filtering` odtwarzający podobieństwa między klientami\n",
    "\n",
    "W ramach implementacji systemu należy utworzyć interfejs dla modeli rekomendacji w postaci mikroserwisu. W wyniku jego działania aplikacje klienckie mogą uzyskiwać rekomendacje produktów na podstawie id użytkownika. System pozwala na działanie z wykorzystaniem jednego z dwóch modeli lub w trybie testu A/B dla porównania modeli.\n",
    "\n",
    "W etapie pierwszym wykonana została analiza danych, w ramach której zidentyfikowane zostały problemy oraz oszacowano, że system jest w stanie skutecznie rekomendować na podstawie danych."
   ],
   "cell_type": "markdown",
   "metadata": {}
  },
  {
   "source": [
    "## Zaimplementowane modele\n",
    "\n",
    "### Model popularnościowy\n",
    "Model opiera swoje działanie na względnej popularności przedmiotów oraz ich kategorii. Zliczana jest ilość wyświetlneń oraz zakupów każdego z produktów, przy czym zakup ma mnożnik X9 (jest to jeden z hiperparametrów modelu). Produkty są sortowane zgodnie z tak oszacowaną popularnością wewnątrz swoich karegorii. "
   ],
   "cell_type": "markdown",
   "metadata": {}
  },
  {
   "source": [
    "## Pokaz działania \n",
    "\n",
    "Serwis został umieszczony na maszynie w Oracle Cloud pod publicznym adresem ip `130.61.188.211`. Można więc przetestować jego działanie z dowolnego miejsca. Serwis odpowiada na odpowiednio sformułowane żądanie HTTP.   \n",
    "\n",
    "Np. Aby uzyskać otrzymać odpowiedź zawierającą zestaw dziesięciu rekomendacji dla klienta o id `120` wystarczy wysłać zapytanie HTTP GET na adres: \n",
    "``` \n",
    " 130.61.188.211/recommendations?user_id=121&num=10 \n",
    "``` \n",
    "W linii poleceń można szybko wykonać takie zapytanie przy pomocy narzędzia `curl`: \n",
    "``` \n",
    "curl -i \"130.61.188.211/recommendations?user_id=121&num=10\" \n",
    "``` \n",
    "Odpowiedź serwera: \n",
    "``` \n",
    "HTTP/1.1 200 OK \n",
    "Content-Type: application/json \n",
    "Date: Sun, 28 Mar 2021 16:30:32 GMT \n",
    "Content-Length: 110 \n",
    "  \n",
    "{\"type\":\"user\",\"id\":121,\"attributes\":{\"recommendations\":[1077,1076,1080,1095,1004,1005,1006,1007,1008,1009]}} \n",
    "``` \n",
    "\n",
    "Serwer chodzący pod publicznym IP pracuje w trybie testu A/B. Przyporządkowanie użytkowników do modelu zapisywane jest w bazie danych SQLite. Po stronie serwera możemy sprawdzić, który system wygenerował ten zestaw rekomendacji: \n",
    "``` \n",
    "sqlite> SELECT * FROM user_to_model WHERE user_id == 121; \n",
    "user_id|model_id \n",
    "121|2 \n",
    "``` \n",
    "Następnie szybki wgląd w przypisanie `model_id` do zrozumiałej nazwy: \n",
    "``` \n",
    "sqlite> SELECT * FROM models; \n",
    "model_id|name|user_count \n",
    "1|Popularity|4 \n",
    "2|Collaborative|4 \n",
    "``` \n",
    "\n",
    "Dla zapytania dla użytkowinika o `user_id` 121 otrzymaliśmy więc rekomendacje od systemu `Collaborative`, czyli modelu CF. Na podstawie tak zbieranych danych oraz dalszych danych zbieranych przez sklep internetowy można oszacować skuteczność obu modeli. \n",
    "\n",
    "Warto by było teraz sprawdzić jakie produkty zostały zarekomendowane. Są to produkty o `product_id`: \n",
    "```\n",
    "1077,1076,1080,1095,1004,1005,1006,1007,1008,1009 \n",
    "``` "
   ],
   "cell_type": "markdown",
   "metadata": {}
  },
  {
   "cell_type": "code",
   "execution_count": 23,
   "metadata": {},
   "outputs": [],
   "source": [
    "import datetime\n",
    "import numpy as np\n",
    "import pandas as pd\n",
    "\n",
    "data_dir = 'data/'\n",
    "data_raw_dir = 'data_raw/'\n",
    "products_file = 'products.jsonl'\n",
    "sessions_file = 'sessions.jsonl'\n",
    "products_filepath = data_raw_dir + products_file\n",
    "sessions_filepath = data_dir + sessions_file\n",
    "products_data = pd.read_json(products_filepath, convert_dates=False, lines=True)\n",
    "products_data = products_data.set_index('product_id')\n",
    "sessions_data = pd.read_json(sessions_filepath, convert_dates=False, lines=True)"
   ]
  },
  {
   "cell_type": "code",
   "execution_count": 20,
   "metadata": {},
   "outputs": [
    {
     "output_type": "execute_result",
     "data": {
      "text/plain": [
       "                                                 product_name  \\\n",
       "product_id                                                      \n",
       "1004                                     Fallout 3 (Xbox 360)   \n",
       "1005           Szalone Króliki Na żywo i w kolorze (Xbox 360)   \n",
       "1006                 Call of Duty 4 Modern Warfare (Xbox 360)   \n",
       "1007                                  Dead Space 3 (Xbox 360)   \n",
       "1008            Tom Clancy&#39;s Rainbow Six Vegas (Xbox 360)   \n",
       "1009                               Kinect Joy Ride (Xbox 360)   \n",
       "1076        Samsung CLX-6260FR ### Gadżety Samsung ### Eks...   \n",
       "1077                                      Kyocera FS-C2026MFP   \n",
       "1080                                       Kyocera FS-3140MFP   \n",
       "1095                                          Twierdza 2 (PC)   \n",
       "\n",
       "                                                category_path        price  \n",
       "product_id                                                                  \n",
       "1004                Gry i konsole;Gry na konsole;Gry Xbox 360  49990000.00  \n",
       "1005                Gry i konsole;Gry na konsole;Gry Xbox 360        49.99  \n",
       "1006                Gry i konsole;Gry na konsole;Gry Xbox 360        59.90  \n",
       "1007                Gry i konsole;Gry na konsole;Gry Xbox 360       -89.99  \n",
       "1008                Gry i konsole;Gry na konsole;Gry Xbox 360        49.99  \n",
       "1009                Gry i konsole;Gry na konsole;Gry Xbox 360        69.00  \n",
       "1076        Komputery;Drukarki i skanery;Biurowe urządzeni...      2399.00  \n",
       "1077        Komputery;Drukarki i skanery;Biurowe urządzeni...      3777.00  \n",
       "1080        Komputery;Drukarki i skanery;Biurowe urządzeni...      5301.90  \n",
       "1095                            Gry i konsole;Gry komputerowe        34.99  "
      ],
      "text/html": "<div>\n<style scoped>\n    .dataframe tbody tr th:only-of-type {\n        vertical-align: middle;\n    }\n\n    .dataframe tbody tr th {\n        vertical-align: top;\n    }\n\n    .dataframe thead th {\n        text-align: right;\n    }\n</style>\n<table border=\"1\" class=\"dataframe\">\n  <thead>\n    <tr style=\"text-align: right;\">\n      <th></th>\n      <th>product_name</th>\n      <th>category_path</th>\n      <th>price</th>\n    </tr>\n    <tr>\n      <th>product_id</th>\n      <th></th>\n      <th></th>\n      <th></th>\n    </tr>\n  </thead>\n  <tbody>\n    <tr>\n      <th>1004</th>\n      <td>Fallout 3 (Xbox 360)</td>\n      <td>Gry i konsole;Gry na konsole;Gry Xbox 360</td>\n      <td>49990000.00</td>\n    </tr>\n    <tr>\n      <th>1005</th>\n      <td>Szalone Króliki Na żywo i w kolorze (Xbox 360)</td>\n      <td>Gry i konsole;Gry na konsole;Gry Xbox 360</td>\n      <td>49.99</td>\n    </tr>\n    <tr>\n      <th>1006</th>\n      <td>Call of Duty 4 Modern Warfare (Xbox 360)</td>\n      <td>Gry i konsole;Gry na konsole;Gry Xbox 360</td>\n      <td>59.90</td>\n    </tr>\n    <tr>\n      <th>1007</th>\n      <td>Dead Space 3 (Xbox 360)</td>\n      <td>Gry i konsole;Gry na konsole;Gry Xbox 360</td>\n      <td>-89.99</td>\n    </tr>\n    <tr>\n      <th>1008</th>\n      <td>Tom Clancy&amp;#39;s Rainbow Six Vegas (Xbox 360)</td>\n      <td>Gry i konsole;Gry na konsole;Gry Xbox 360</td>\n      <td>49.99</td>\n    </tr>\n    <tr>\n      <th>1009</th>\n      <td>Kinect Joy Ride (Xbox 360)</td>\n      <td>Gry i konsole;Gry na konsole;Gry Xbox 360</td>\n      <td>69.00</td>\n    </tr>\n    <tr>\n      <th>1076</th>\n      <td>Samsung CLX-6260FR ### Gadżety Samsung ### Eks...</td>\n      <td>Komputery;Drukarki i skanery;Biurowe urządzeni...</td>\n      <td>2399.00</td>\n    </tr>\n    <tr>\n      <th>1077</th>\n      <td>Kyocera FS-C2026MFP</td>\n      <td>Komputery;Drukarki i skanery;Biurowe urządzeni...</td>\n      <td>3777.00</td>\n    </tr>\n    <tr>\n      <th>1080</th>\n      <td>Kyocera FS-3140MFP</td>\n      <td>Komputery;Drukarki i skanery;Biurowe urządzeni...</td>\n      <td>5301.90</td>\n    </tr>\n    <tr>\n      <th>1095</th>\n      <td>Twierdza 2 (PC)</td>\n      <td>Gry i konsole;Gry komputerowe</td>\n      <td>34.99</td>\n    </tr>\n  </tbody>\n</table>\n</div>"
     },
     "metadata": {},
     "execution_count": 20
    }
   ],
   "source": [
    "product_list = [1077,1076,1080,1095,1004,1005,1006,1007,1008,1009]\n",
    "products_data[products_data.index.isin(product_list)]"
   ]
  },
  {
   "cell_type": "code",
   "execution_count": null,
   "metadata": {},
   "outputs": [],
   "source": []
  },
  {
   "cell_type": "code",
   "execution_count": 24,
   "metadata": {},
   "outputs": [
    {
     "output_type": "execute_result",
     "data": {
      "text/plain": [
       "      session_id            timestamp  user_id  product_id    event_type  \\\n",
       "8690      101060  2021-02-10T12:47:11    121.0      1017.0  VIEW_PRODUCT   \n",
       "8691      101060  2021-02-10T12:49:40    121.0         NaN  VIEW_PRODUCT   \n",
       "8692      101060  2021-02-10T12:50:00    121.0      1070.0  VIEW_PRODUCT   \n",
       "8693      101060  2021-02-10T12:52:32    121.0         NaN  VIEW_PRODUCT   \n",
       "8694      101060  2021-02-10T12:57:24    121.0      1039.0  VIEW_PRODUCT   \n",
       "...          ...                  ...      ...         ...           ...   \n",
       "9379      101144  2021-01-08T08:34:41    121.0      1311.0  VIEW_PRODUCT   \n",
       "9380      101144  2021-01-08T08:36:18    121.0      1300.0  VIEW_PRODUCT   \n",
       "9381      101144  2021-01-08T08:40:59    121.0      1309.0  VIEW_PRODUCT   \n",
       "9382      101145  2021-01-16T21:08:14    121.0         NaN  VIEW_PRODUCT   \n",
       "9383      101145  2021-01-16T21:11:03    121.0      1276.0   BUY_PRODUCT   \n",
       "\n",
       "      offered_discount  purchase_id  \n",
       "8690                 0          NaN  \n",
       "8691                 0          NaN  \n",
       "8692                 0          NaN  \n",
       "8693                 0          NaN  \n",
       "8694                 0          NaN  \n",
       "...                ...          ...  \n",
       "9379                 0          NaN  \n",
       "9380                 0          NaN  \n",
       "9381                 0          NaN  \n",
       "9382                20          NaN  \n",
       "9383                20      20552.0  \n",
       "\n",
       "[662 rows x 7 columns]"
      ],
      "text/html": "<div>\n<style scoped>\n    .dataframe tbody tr th:only-of-type {\n        vertical-align: middle;\n    }\n\n    .dataframe tbody tr th {\n        vertical-align: top;\n    }\n\n    .dataframe thead th {\n        text-align: right;\n    }\n</style>\n<table border=\"1\" class=\"dataframe\">\n  <thead>\n    <tr style=\"text-align: right;\">\n      <th></th>\n      <th>session_id</th>\n      <th>timestamp</th>\n      <th>user_id</th>\n      <th>product_id</th>\n      <th>event_type</th>\n      <th>offered_discount</th>\n      <th>purchase_id</th>\n    </tr>\n  </thead>\n  <tbody>\n    <tr>\n      <th>8690</th>\n      <td>101060</td>\n      <td>2021-02-10T12:47:11</td>\n      <td>121.0</td>\n      <td>1017.0</td>\n      <td>VIEW_PRODUCT</td>\n      <td>0</td>\n      <td>NaN</td>\n    </tr>\n    <tr>\n      <th>8691</th>\n      <td>101060</td>\n      <td>2021-02-10T12:49:40</td>\n      <td>121.0</td>\n      <td>NaN</td>\n      <td>VIEW_PRODUCT</td>\n      <td>0</td>\n      <td>NaN</td>\n    </tr>\n    <tr>\n      <th>8692</th>\n      <td>101060</td>\n      <td>2021-02-10T12:50:00</td>\n      <td>121.0</td>\n      <td>1070.0</td>\n      <td>VIEW_PRODUCT</td>\n      <td>0</td>\n      <td>NaN</td>\n    </tr>\n    <tr>\n      <th>8693</th>\n      <td>101060</td>\n      <td>2021-02-10T12:52:32</td>\n      <td>121.0</td>\n      <td>NaN</td>\n      <td>VIEW_PRODUCT</td>\n      <td>0</td>\n      <td>NaN</td>\n    </tr>\n    <tr>\n      <th>8694</th>\n      <td>101060</td>\n      <td>2021-02-10T12:57:24</td>\n      <td>121.0</td>\n      <td>1039.0</td>\n      <td>VIEW_PRODUCT</td>\n      <td>0</td>\n      <td>NaN</td>\n    </tr>\n    <tr>\n      <th>...</th>\n      <td>...</td>\n      <td>...</td>\n      <td>...</td>\n      <td>...</td>\n      <td>...</td>\n      <td>...</td>\n      <td>...</td>\n    </tr>\n    <tr>\n      <th>9379</th>\n      <td>101144</td>\n      <td>2021-01-08T08:34:41</td>\n      <td>121.0</td>\n      <td>1311.0</td>\n      <td>VIEW_PRODUCT</td>\n      <td>0</td>\n      <td>NaN</td>\n    </tr>\n    <tr>\n      <th>9380</th>\n      <td>101144</td>\n      <td>2021-01-08T08:36:18</td>\n      <td>121.0</td>\n      <td>1300.0</td>\n      <td>VIEW_PRODUCT</td>\n      <td>0</td>\n      <td>NaN</td>\n    </tr>\n    <tr>\n      <th>9381</th>\n      <td>101144</td>\n      <td>2021-01-08T08:40:59</td>\n      <td>121.0</td>\n      <td>1309.0</td>\n      <td>VIEW_PRODUCT</td>\n      <td>0</td>\n      <td>NaN</td>\n    </tr>\n    <tr>\n      <th>9382</th>\n      <td>101145</td>\n      <td>2021-01-16T21:08:14</td>\n      <td>121.0</td>\n      <td>NaN</td>\n      <td>VIEW_PRODUCT</td>\n      <td>20</td>\n      <td>NaN</td>\n    </tr>\n    <tr>\n      <th>9383</th>\n      <td>101145</td>\n      <td>2021-01-16T21:11:03</td>\n      <td>121.0</td>\n      <td>1276.0</td>\n      <td>BUY_PRODUCT</td>\n      <td>20</td>\n      <td>20552.0</td>\n    </tr>\n  </tbody>\n</table>\n<p>662 rows × 7 columns</p>\n</div>"
     },
     "metadata": {},
     "execution_count": 24
    }
   ],
   "source": [
    "target_user_id = 121\n",
    "# Odrzucenie danych nie związanych z użytkownikiem o id 121\n",
    "sessions_data = sessions_data.loc[sessions_data['user_id']==target_user_id]\n",
    "sessions_data\n",
    "# Złączenie danych sesji i produktów\n",
    "#session_join_products = sessions_data.join(products_data.set_index('product_id'), on='product_id', how='left')\n",
    "#session_join_products = session_join_products[['session_id', 'user_id', 'event_type', 'category_path']]\n",
    "#session_join_products"
   ]
  },
  {
   "cell_type": "code",
   "execution_count": null,
   "metadata": {},
   "outputs": [],
   "source": []
  }
 ]
}