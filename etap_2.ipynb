{
 "metadata": {
  "language_info": {
   "codemirror_mode": {
    "name": "ipython",
    "version": 3
   },
   "file_extension": ".py",
   "mimetype": "text/x-python",
   "name": "python",
   "nbconvert_exporter": "python",
   "pygments_lexer": "ipython3",
   "version": "3.9.2-final"
  },
  "orig_nbformat": 2,
  "kernelspec": {
   "name": "python3",
   "display_name": "Python 3.9.2 64-bit ('env')",
   "metadata": {
    "interpreter": {
     "hash": "dbb75448b7a0532f8e064e57b28c280be0d7b039aa067963504bfbfd0b59d304"
    }
   }
  }
 },
 "nbformat": 4,
 "nbformat_minor": 2,
 "cells": [
  {
   "source": [
    "# IUM projekt - etap 2\n",
    "### Jakub Grzechociński  \n",
    "### Piotr Sawicki\n"
   ],
   "cell_type": "markdown",
   "metadata": {}
  },
  {
   "source": [
    "## Treść zadania\n",
    "> Są osoby, które wchodzą na naszą stronę i nie mogą się zdecydować, którym produktom przyjrzeć się nieco lepiej. Może dało by się im coś polecić?\n",
    "\n",
    "## Streszczenie etapu pierwszego\n",
    "Do stworzenia jest system oferujący usługę rekomendacji produktów dla klientów sklepu internetowego. System opiera swoje działanie na danych przejrzeń i zakupów produktów przez użytkowników sklepu oraz na danych samych produktów.\n",
    "\n",
    "System oferuje rekomendacje na podstawie dwóch oddzielnych modeli:\n",
    "- `popularnościowy` bazujący na względnej popularności produktów i kategorii oraz preferencji użytkownika\n",
    "- `collaborative filtering` odtwarzający podobieństwa między klientami\n",
    "\n",
    "W ramach implementacji systemu należy utworzyć interfejs dla modeli rekomendacji w postaci mikroserwisu. W wyniku jego działania aplikacje klienckie mogą uzyskiwać rekomendacje produktów na podstawie id użytkownika. System pozwala na działanie z wykorzystaniem jednego z dwóch modeli lub w trybie testu A/B dla porównania modeli.\n",
    "\n",
    "W etapie pierwszym wykonana została analiza danych, w ramach której zidentyfikowane zostały problemy oraz oszacowano, że system jest w stanie skutecznie rekomendować na podstawie danych."
   ],
   "cell_type": "markdown",
   "metadata": {}
  },
  {
   "source": [
    "## Zaimplementowane modele\n",
    "\n",
    "### Model popularnościowy\n",
    "Model opiera swoje działanie na względnej popularności przedmiotów oraz ich kategorii. Zliczana jest ilość wyświetlneń oraz zakupów każdego z produktów, przy czym zakup ma mnożnik X9 (jest to jeden z hiperparametrów modelu). Produkty są sortowane zgodnie z tak oszacowaną popularnością wewnątrz swoich karegorii. "
   ],
   "cell_type": "markdown",
   "metadata": {}
  },
  {
   "source": [
    "## Pokaz działania \n",
    "\n",
    "Serwis został umieszczony na maszynie w Oracle Cloud pod publicznym adresem ip `130.61.188.211`. Można więc przetestować jego działanie z dowolnego miejsca. Serwis odpowiada na odpowiednio sformułowane żądanie HTTP.   \n",
    "\n",
    "Np. Aby uzyskać otrzymać odpowiedź zawierającą zestaw dziesięciu rekomendacji dla klienta o id `120` wystarczy wysłać zapytanie HTTP GET na adres: \n",
    "``` \n",
    " 130.61.188.211/recommendations?user_id=121&num=10 \n",
    "``` \n",
    "W linii poleceń można szybko wykonać takie zapytanie przy pomocy narzędzia `curl`: \n",
    "``` \n",
    "curl -i \"130.61.188.211/recommendations?user_id=121&num=10\" \n",
    "``` \n",
    "Odpowiedź serwera: \n",
    "``` \n",
    "HTTP/1.1 200 OK \n",
    "Content-Type: application/json \n",
    "Date: Sun, 28 Mar 2021 16:30:32 GMT \n",
    "Content-Length: 110 \n",
    "  \n",
    "{\"type\":\"user\",\"id\":121,\"attributes\":{\"recommendations\":[1077,1076,1080,1095,1004,1005,1006,1007,1008,1009]}} \n",
    "``` \n",
    "\n",
    "Serwer chodzący pod publicznym IP pracuje w trybie testu A/B. Przyporządkowanie użytkowników do modelu zapisywane jest w bazie danych SQLite. Po stronie serwera możemy sprawdzić, który system wygenerował ten zestaw rekomendacji: \n",
    "``` \n",
    "sqlite> SELECT * FROM user_to_model WHERE user_id == 121; \n",
    "user_id|model_id \n",
    "121|2 \n",
    "``` \n",
    "Następnie szybki wgląd w przypisanie `model_id` do zrozumiałej nazwy: \n",
    "``` \n",
    "sqlite> SELECT * FROM models; \n",
    "model_id|name|user_count \n",
    "1|Popularity|4 \n",
    "2|Collaborative|4 \n",
    "``` \n",
    "\n",
    "Dla zapytania dla użytkowinika o `user_id` 121 otrzymaliśmy więc rekomendacje od systemu `Collaborative`, czyli modelu CF. Na podstawie tak zbieranych danych oraz dalszych danych zbieranych przez sklep internetowy można oszacować skuteczność obu modeli. \n",
    "\n",
    "Warto by było teraz sprawdzić jakie produkty zostały zarekomendowane. Są to produkty o `product_id`: \n",
    "```\n",
    "1077,1076,1080,1095,1004,1005,1006,1007,1008,1009 \n",
    "``` "
   ],
   "cell_type": "markdown",
   "metadata": {}
  },
  {
   "cell_type": "code",
   "execution_count": 130,
   "metadata": {},
   "outputs": [],
   "source": [
    "import datetime\n",
    "import numpy as np\n",
    "import pandas as pd\n",
    "\n",
    "data_dir = 'data/'\n",
    "data_raw_dir = 'data_raw/'\n",
    "products_file = 'products.jsonl'\n",
    "sessions_file = 'sessions.jsonl'\n",
    "products_filepath = data_raw_dir + products_file\n",
    "sessions_filepath = data_dir + sessions_file\n",
    "products_data = pd.read_json(products_filepath, convert_dates=False, lines=True)\n",
    "products_data = products_data.drop(columns=['price'])\n",
    "sessions_data = pd.read_json(sessions_filepath, convert_dates=False, lines=True)"
   ]
  },
  {
   "cell_type": "code",
   "execution_count": 134,
   "metadata": {},
   "outputs": [
    {
     "output_type": "execute_result",
     "data": {
      "text/plain": [
       "     product_id                                       product_name  \\\n",
       "282        1283                       Okulary 3D PHILIPS PTA436/00   \n",
       "0          1001                      Telefon Siemens Gigaset DA310   \n",
       "317        1318                              Plantronics Savi W710   \n",
       "276        1277                            Apple iPad mini 64GB 4G   \n",
       "275        1276                               Apple iPad mini 64GB   \n",
       "277        1278                           Intenso Music Walker 8GB   \n",
       "280        1281                                        Manta MM266   \n",
       "34         1035                      Samsung Galaxy S III GT-i9300   \n",
       "233        1234                                     Sony DVP-SR760   \n",
       "232        1233                                       Manta DVD064   \n",
       "66         1067                                         Nokia 3310   \n",
       "316        1317                              Plantronics Savi W740   \n",
       "314        1315                                         Jabra Talk   \n",
       "71         1072                                      Jabra Freeway   \n",
       "315        1316                         Plantronics Voyager Legend   \n",
       "221        1222                                 Parrot Minikit NEO   \n",
       "200        1201                                    Jabra Speak 410   \n",
       "318        1319                                        HTC HS-S200   \n",
       "72         1073                                        Jabra Drive   \n",
       "73         1074                                   Gembird BTCC-002   \n",
       "46         1047  Pirates of the Caribbean At World&#39;s End (PS3)   \n",
       "42         1043                         Fight Night Champion (PS3)   \n",
       "39         1040                                     Crysis 2 (PS3)   \n",
       "83         1084                Sing It High School Musical 3 (PS3)   \n",
       "44         1045                Call of Duty Modern Warfare 2 (PS3)   \n",
       "45         1046                LEGO Batman 2 DC Super Heroes (PS3)   \n",
       "74         1075                                     Ricoh SG3110DN   \n",
       "1          1002                                 Kyocera FS-1135MFP   \n",
       "80         1081                                         OKI B840dn   \n",
       "2          1003                                 Kyocera FS-3640MFP   \n",
       "76         1077                                Kyocera FS-C2026MFP   \n",
       "78         1079                                 Kyocera FS-3040MFP   \n",
       "75         1076  Samsung CLX-6260FR ### Gadżety Samsung ### Eks...   \n",
       "43         1044                       Assassin&#39;s Creed 3 (PS3)   \n",
       "40         1041                                     Crysis 3 (PS3)   \n",
       "77         1078                                 Kyocera FS-3540MFP   \n",
       "33         1034                                    LCD NEC EA223WM   \n",
       "79         1080                                 Kyocera FS-3140MFP   \n",
       "31         1032                                LCD Iiyama E2280WSD   \n",
       "68         1069                                   LCD NEC EA224WMi   \n",
       "305        1306                                One For All SV 9215   \n",
       "63         1064                                  LCD BenQ GL2250HM   \n",
       "29         1030                                LCD Iiyama B2280WSD   \n",
       "16         1017                                    LCD Dell U2412M   \n",
       "36         1037                                    LCD Asus VK248H   \n",
       "38         1039                                    LCD Asus VS197D   \n",
       "24         1025                                    LCD BenQ GL2250   \n",
       "32         1033                                LCD Iiyama T1932MSC   \n",
       "37         1038                                    LCD Asus VK278Q   \n",
       "69         1070                               LCD Philips 241S4LCB   \n",
       "\n",
       "                                         category_path  \n",
       "282  Sprzęt RTV;Video;Telewizory i akcesoria;Okular...  \n",
       "0            Telefony i akcesoria;Telefony stacjonarne  \n",
       "317                         Sprzęt RTV;Audio;Słuchawki  \n",
       "276              Komputery;Tablety i akcesoria;Tablety  \n",
       "275              Komputery;Tablety i akcesoria;Tablety  \n",
       "277  Sprzęt RTV;Przenośne audio i video;Odtwarzacze...  \n",
       "280  Sprzęt RTV;Przenośne audio i video;Odtwarzacze...  \n",
       "34             Telefony i akcesoria;Telefony komórkowe  \n",
       "233                   Sprzęt RTV;Video;Odtwarzacze DVD  \n",
       "232                   Sprzęt RTV;Video;Odtwarzacze DVD  \n",
       "66             Telefony i akcesoria;Telefony komórkowe  \n",
       "316  Telefony i akcesoria;Akcesoria telefoniczne;Ze...  \n",
       "314  Telefony i akcesoria;Akcesoria telefoniczne;Ze...  \n",
       "71   Telefony i akcesoria;Akcesoria telefoniczne;Ze...  \n",
       "315  Telefony i akcesoria;Akcesoria telefoniczne;Ze...  \n",
       "221  Telefony i akcesoria;Akcesoria telefoniczne;Ze...  \n",
       "200  Telefony i akcesoria;Akcesoria telefoniczne;Ze...  \n",
       "318  Telefony i akcesoria;Akcesoria telefoniczne;Ze...  \n",
       "72   Telefony i akcesoria;Akcesoria telefoniczne;Ze...  \n",
       "73   Telefony i akcesoria;Akcesoria telefoniczne;Ze...  \n",
       "46       Gry i konsole;Gry na konsole;Gry PlayStation3  \n",
       "42       Gry i konsole;Gry na konsole;Gry PlayStation3  \n",
       "39       Gry i konsole;Gry na konsole;Gry PlayStation3  \n",
       "83       Gry i konsole;Gry na konsole;Gry PlayStation3  \n",
       "44       Gry i konsole;Gry na konsole;Gry PlayStation3  \n",
       "45       Gry i konsole;Gry na konsole;Gry PlayStation3  \n",
       "74   Komputery;Drukarki i skanery;Biurowe urządzeni...  \n",
       "1    Komputery;Drukarki i skanery;Biurowe urządzeni...  \n",
       "80   Komputery;Drukarki i skanery;Biurowe urządzeni...  \n",
       "2    Komputery;Drukarki i skanery;Biurowe urządzeni...  \n",
       "76   Komputery;Drukarki i skanery;Biurowe urządzeni...  \n",
       "78   Komputery;Drukarki i skanery;Biurowe urządzeni...  \n",
       "75   Komputery;Drukarki i skanery;Biurowe urządzeni...  \n",
       "43       Gry i konsole;Gry na konsole;Gry PlayStation3  \n",
       "40       Gry i konsole;Gry na konsole;Gry PlayStation3  \n",
       "77   Komputery;Drukarki i skanery;Biurowe urządzeni...  \n",
       "33                     Komputery;Monitory;Monitory LCD  \n",
       "79   Komputery;Drukarki i skanery;Biurowe urządzeni...  \n",
       "31                     Komputery;Monitory;Monitory LCD  \n",
       "68                     Komputery;Monitory;Monitory LCD  \n",
       "305  Sprzęt RTV;Video;Telewizory i akcesoria;Anteny...  \n",
       "63                     Komputery;Monitory;Monitory LCD  \n",
       "29                     Komputery;Monitory;Monitory LCD  \n",
       "16                     Komputery;Monitory;Monitory LCD  \n",
       "36                     Komputery;Monitory;Monitory LCD  \n",
       "38                     Komputery;Monitory;Monitory LCD  \n",
       "24                     Komputery;Monitory;Monitory LCD  \n",
       "32                     Komputery;Monitory;Monitory LCD  \n",
       "37                     Komputery;Monitory;Monitory LCD  \n",
       "69                     Komputery;Monitory;Monitory LCD  "
      ],
      "text/html": "<div>\n<style scoped>\n    .dataframe tbody tr th:only-of-type {\n        vertical-align: middle;\n    }\n\n    .dataframe tbody tr th {\n        vertical-align: top;\n    }\n\n    .dataframe thead th {\n        text-align: right;\n    }\n</style>\n<table border=\"1\" class=\"dataframe\">\n  <thead>\n    <tr style=\"text-align: right;\">\n      <th></th>\n      <th>product_id</th>\n      <th>product_name</th>\n      <th>category_path</th>\n    </tr>\n  </thead>\n  <tbody>\n    <tr>\n      <th>282</th>\n      <td>1283</td>\n      <td>Okulary 3D PHILIPS PTA436/00</td>\n      <td>Sprzęt RTV;Video;Telewizory i akcesoria;Okular...</td>\n    </tr>\n    <tr>\n      <th>0</th>\n      <td>1001</td>\n      <td>Telefon Siemens Gigaset DA310</td>\n      <td>Telefony i akcesoria;Telefony stacjonarne</td>\n    </tr>\n    <tr>\n      <th>317</th>\n      <td>1318</td>\n      <td>Plantronics Savi W710</td>\n      <td>Sprzęt RTV;Audio;Słuchawki</td>\n    </tr>\n    <tr>\n      <th>276</th>\n      <td>1277</td>\n      <td>Apple iPad mini 64GB 4G</td>\n      <td>Komputery;Tablety i akcesoria;Tablety</td>\n    </tr>\n    <tr>\n      <th>275</th>\n      <td>1276</td>\n      <td>Apple iPad mini 64GB</td>\n      <td>Komputery;Tablety i akcesoria;Tablety</td>\n    </tr>\n    <tr>\n      <th>277</th>\n      <td>1278</td>\n      <td>Intenso Music Walker 8GB</td>\n      <td>Sprzęt RTV;Przenośne audio i video;Odtwarzacze...</td>\n    </tr>\n    <tr>\n      <th>280</th>\n      <td>1281</td>\n      <td>Manta MM266</td>\n      <td>Sprzęt RTV;Przenośne audio i video;Odtwarzacze...</td>\n    </tr>\n    <tr>\n      <th>34</th>\n      <td>1035</td>\n      <td>Samsung Galaxy S III GT-i9300</td>\n      <td>Telefony i akcesoria;Telefony komórkowe</td>\n    </tr>\n    <tr>\n      <th>233</th>\n      <td>1234</td>\n      <td>Sony DVP-SR760</td>\n      <td>Sprzęt RTV;Video;Odtwarzacze DVD</td>\n    </tr>\n    <tr>\n      <th>232</th>\n      <td>1233</td>\n      <td>Manta DVD064</td>\n      <td>Sprzęt RTV;Video;Odtwarzacze DVD</td>\n    </tr>\n    <tr>\n      <th>66</th>\n      <td>1067</td>\n      <td>Nokia 3310</td>\n      <td>Telefony i akcesoria;Telefony komórkowe</td>\n    </tr>\n    <tr>\n      <th>316</th>\n      <td>1317</td>\n      <td>Plantronics Savi W740</td>\n      <td>Telefony i akcesoria;Akcesoria telefoniczne;Ze...</td>\n    </tr>\n    <tr>\n      <th>314</th>\n      <td>1315</td>\n      <td>Jabra Talk</td>\n      <td>Telefony i akcesoria;Akcesoria telefoniczne;Ze...</td>\n    </tr>\n    <tr>\n      <th>71</th>\n      <td>1072</td>\n      <td>Jabra Freeway</td>\n      <td>Telefony i akcesoria;Akcesoria telefoniczne;Ze...</td>\n    </tr>\n    <tr>\n      <th>315</th>\n      <td>1316</td>\n      <td>Plantronics Voyager Legend</td>\n      <td>Telefony i akcesoria;Akcesoria telefoniczne;Ze...</td>\n    </tr>\n    <tr>\n      <th>221</th>\n      <td>1222</td>\n      <td>Parrot Minikit NEO</td>\n      <td>Telefony i akcesoria;Akcesoria telefoniczne;Ze...</td>\n    </tr>\n    <tr>\n      <th>200</th>\n      <td>1201</td>\n      <td>Jabra Speak 410</td>\n      <td>Telefony i akcesoria;Akcesoria telefoniczne;Ze...</td>\n    </tr>\n    <tr>\n      <th>318</th>\n      <td>1319</td>\n      <td>HTC HS-S200</td>\n      <td>Telefony i akcesoria;Akcesoria telefoniczne;Ze...</td>\n    </tr>\n    <tr>\n      <th>72</th>\n      <td>1073</td>\n      <td>Jabra Drive</td>\n      <td>Telefony i akcesoria;Akcesoria telefoniczne;Ze...</td>\n    </tr>\n    <tr>\n      <th>73</th>\n      <td>1074</td>\n      <td>Gembird BTCC-002</td>\n      <td>Telefony i akcesoria;Akcesoria telefoniczne;Ze...</td>\n    </tr>\n    <tr>\n      <th>46</th>\n      <td>1047</td>\n      <td>Pirates of the Caribbean At World&amp;#39;s End (PS3)</td>\n      <td>Gry i konsole;Gry na konsole;Gry PlayStation3</td>\n    </tr>\n    <tr>\n      <th>42</th>\n      <td>1043</td>\n      <td>Fight Night Champion (PS3)</td>\n      <td>Gry i konsole;Gry na konsole;Gry PlayStation3</td>\n    </tr>\n    <tr>\n      <th>39</th>\n      <td>1040</td>\n      <td>Crysis 2 (PS3)</td>\n      <td>Gry i konsole;Gry na konsole;Gry PlayStation3</td>\n    </tr>\n    <tr>\n      <th>83</th>\n      <td>1084</td>\n      <td>Sing It High School Musical 3 (PS3)</td>\n      <td>Gry i konsole;Gry na konsole;Gry PlayStation3</td>\n    </tr>\n    <tr>\n      <th>44</th>\n      <td>1045</td>\n      <td>Call of Duty Modern Warfare 2 (PS3)</td>\n      <td>Gry i konsole;Gry na konsole;Gry PlayStation3</td>\n    </tr>\n    <tr>\n      <th>45</th>\n      <td>1046</td>\n      <td>LEGO Batman 2 DC Super Heroes (PS3)</td>\n      <td>Gry i konsole;Gry na konsole;Gry PlayStation3</td>\n    </tr>\n    <tr>\n      <th>74</th>\n      <td>1075</td>\n      <td>Ricoh SG3110DN</td>\n      <td>Komputery;Drukarki i skanery;Biurowe urządzeni...</td>\n    </tr>\n    <tr>\n      <th>1</th>\n      <td>1002</td>\n      <td>Kyocera FS-1135MFP</td>\n      <td>Komputery;Drukarki i skanery;Biurowe urządzeni...</td>\n    </tr>\n    <tr>\n      <th>80</th>\n      <td>1081</td>\n      <td>OKI B840dn</td>\n      <td>Komputery;Drukarki i skanery;Biurowe urządzeni...</td>\n    </tr>\n    <tr>\n      <th>2</th>\n      <td>1003</td>\n      <td>Kyocera FS-3640MFP</td>\n      <td>Komputery;Drukarki i skanery;Biurowe urządzeni...</td>\n    </tr>\n    <tr>\n      <th>76</th>\n      <td>1077</td>\n      <td>Kyocera FS-C2026MFP</td>\n      <td>Komputery;Drukarki i skanery;Biurowe urządzeni...</td>\n    </tr>\n    <tr>\n      <th>78</th>\n      <td>1079</td>\n      <td>Kyocera FS-3040MFP</td>\n      <td>Komputery;Drukarki i skanery;Biurowe urządzeni...</td>\n    </tr>\n    <tr>\n      <th>75</th>\n      <td>1076</td>\n      <td>Samsung CLX-6260FR ### Gadżety Samsung ### Eks...</td>\n      <td>Komputery;Drukarki i skanery;Biurowe urządzeni...</td>\n    </tr>\n    <tr>\n      <th>43</th>\n      <td>1044</td>\n      <td>Assassin&amp;#39;s Creed 3 (PS3)</td>\n      <td>Gry i konsole;Gry na konsole;Gry PlayStation3</td>\n    </tr>\n    <tr>\n      <th>40</th>\n      <td>1041</td>\n      <td>Crysis 3 (PS3)</td>\n      <td>Gry i konsole;Gry na konsole;Gry PlayStation3</td>\n    </tr>\n    <tr>\n      <th>77</th>\n      <td>1078</td>\n      <td>Kyocera FS-3540MFP</td>\n      <td>Komputery;Drukarki i skanery;Biurowe urządzeni...</td>\n    </tr>\n    <tr>\n      <th>33</th>\n      <td>1034</td>\n      <td>LCD NEC EA223WM</td>\n      <td>Komputery;Monitory;Monitory LCD</td>\n    </tr>\n    <tr>\n      <th>79</th>\n      <td>1080</td>\n      <td>Kyocera FS-3140MFP</td>\n      <td>Komputery;Drukarki i skanery;Biurowe urządzeni...</td>\n    </tr>\n    <tr>\n      <th>31</th>\n      <td>1032</td>\n      <td>LCD Iiyama E2280WSD</td>\n      <td>Komputery;Monitory;Monitory LCD</td>\n    </tr>\n    <tr>\n      <th>68</th>\n      <td>1069</td>\n      <td>LCD NEC EA224WMi</td>\n      <td>Komputery;Monitory;Monitory LCD</td>\n    </tr>\n    <tr>\n      <th>305</th>\n      <td>1306</td>\n      <td>One For All SV 9215</td>\n      <td>Sprzęt RTV;Video;Telewizory i akcesoria;Anteny...</td>\n    </tr>\n    <tr>\n      <th>63</th>\n      <td>1064</td>\n      <td>LCD BenQ GL2250HM</td>\n      <td>Komputery;Monitory;Monitory LCD</td>\n    </tr>\n    <tr>\n      <th>29</th>\n      <td>1030</td>\n      <td>LCD Iiyama B2280WSD</td>\n      <td>Komputery;Monitory;Monitory LCD</td>\n    </tr>\n    <tr>\n      <th>16</th>\n      <td>1017</td>\n      <td>LCD Dell U2412M</td>\n      <td>Komputery;Monitory;Monitory LCD</td>\n    </tr>\n    <tr>\n      <th>36</th>\n      <td>1037</td>\n      <td>LCD Asus VK248H</td>\n      <td>Komputery;Monitory;Monitory LCD</td>\n    </tr>\n    <tr>\n      <th>38</th>\n      <td>1039</td>\n      <td>LCD Asus VS197D</td>\n      <td>Komputery;Monitory;Monitory LCD</td>\n    </tr>\n    <tr>\n      <th>24</th>\n      <td>1025</td>\n      <td>LCD BenQ GL2250</td>\n      <td>Komputery;Monitory;Monitory LCD</td>\n    </tr>\n    <tr>\n      <th>32</th>\n      <td>1033</td>\n      <td>LCD Iiyama T1932MSC</td>\n      <td>Komputery;Monitory;Monitory LCD</td>\n    </tr>\n    <tr>\n      <th>37</th>\n      <td>1038</td>\n      <td>LCD Asus VK278Q</td>\n      <td>Komputery;Monitory;Monitory LCD</td>\n    </tr>\n    <tr>\n      <th>69</th>\n      <td>1070</td>\n      <td>LCD Philips 241S4LCB</td>\n      <td>Komputery;Monitory;Monitory LCD</td>\n    </tr>\n  </tbody>\n</table>\n</div>"
     },
     "metadata": {},
     "execution_count": 134
    }
   ],
   "source": [
    "product_list = [1283, 1001, 1318, 1277, 1276, 1278, 1281, 1035, 1234, 1233, 1067, 1317, 1315, 1072, 1316, 1222, 1201, 1319, 1073, 1074, 1047, 1043, 1040, 1084, 1045, 1046, 1075, 1002, 1081, 1003, 1077, 1079, 1076, 1044, 1041, 1078, 1034, 1080, 1032, 1069, 1306, 1064, 1030, 1017, 1037, 1039, 1025, 1033, 1038, 1070]\n",
    "# get only the products from list\n",
    "recommended_products = products_data[products_data.product_id.isin(product_list)]\n",
    "# index them in the order from the list\n",
    "recommended_products.reindex(recommended_products.product_id.map({x: i for i, x in enumerate(product_list)}).sort_values().index)"
   ]
  },
  {
   "source": [
    "Produkty najlepsze zdaniem modelu są wyżej, gorsze niżej. Model zdaje się polecać klientowi przede wszystkim skanery."
   ],
   "cell_type": "markdown",
   "metadata": {}
  },
  {
   "cell_type": "code",
   "execution_count": 132,
   "metadata": {},
   "outputs": [
    {
     "output_type": "execute_result",
     "data": {
      "text/plain": [
       "       session_id  user_id    event_type  \\\n",
       "83034      110659      302  VIEW_PRODUCT   \n",
       "83035      110659      302  VIEW_PRODUCT   \n",
       "83036      110659      302  VIEW_PRODUCT   \n",
       "83037      110659      302  VIEW_PRODUCT   \n",
       "83038      110659      302  VIEW_PRODUCT   \n",
       "83039      110659      302  VIEW_PRODUCT   \n",
       "\n",
       "                                       category_path              product_name  \n",
       "83034      Gry i konsole;Gry na konsole;Gry Xbox 360      Fallout 3 (Xbox 360)  \n",
       "83035      Gry i konsole;Gry na konsole;Gry Xbox 360   Dead Space 3 (Xbox 360)  \n",
       "83036  Gry i konsole;Gry na konsole;Gry PlayStation3               GTA 5 (PS3)  \n",
       "83037      Gry i konsole;Gry na konsole;Gry Xbox 360          GTA 4 (Xbox 360)  \n",
       "83038      Gry i konsole;Gry na konsole;Gry Xbox 360  Mass Effect 2 (Xbox 360)  \n",
       "83039      Gry i konsole;Gry na konsole;Gry Xbox 360      Fallout 3 (Xbox 360)  "
      ],
      "text/html": "<div>\n<style scoped>\n    .dataframe tbody tr th:only-of-type {\n        vertical-align: middle;\n    }\n\n    .dataframe tbody tr th {\n        vertical-align: top;\n    }\n\n    .dataframe thead th {\n        text-align: right;\n    }\n</style>\n<table border=\"1\" class=\"dataframe\">\n  <thead>\n    <tr style=\"text-align: right;\">\n      <th></th>\n      <th>session_id</th>\n      <th>user_id</th>\n      <th>event_type</th>\n      <th>category_path</th>\n      <th>product_name</th>\n    </tr>\n  </thead>\n  <tbody>\n    <tr>\n      <th>83034</th>\n      <td>110659</td>\n      <td>302</td>\n      <td>VIEW_PRODUCT</td>\n      <td>Gry i konsole;Gry na konsole;Gry Xbox 360</td>\n      <td>Fallout 3 (Xbox 360)</td>\n    </tr>\n    <tr>\n      <th>83035</th>\n      <td>110659</td>\n      <td>302</td>\n      <td>VIEW_PRODUCT</td>\n      <td>Gry i konsole;Gry na konsole;Gry Xbox 360</td>\n      <td>Dead Space 3 (Xbox 360)</td>\n    </tr>\n    <tr>\n      <th>83036</th>\n      <td>110659</td>\n      <td>302</td>\n      <td>VIEW_PRODUCT</td>\n      <td>Gry i konsole;Gry na konsole;Gry PlayStation3</td>\n      <td>GTA 5 (PS3)</td>\n    </tr>\n    <tr>\n      <th>83037</th>\n      <td>110659</td>\n      <td>302</td>\n      <td>VIEW_PRODUCT</td>\n      <td>Gry i konsole;Gry na konsole;Gry Xbox 360</td>\n      <td>GTA 4 (Xbox 360)</td>\n    </tr>\n    <tr>\n      <th>83038</th>\n      <td>110659</td>\n      <td>302</td>\n      <td>VIEW_PRODUCT</td>\n      <td>Gry i konsole;Gry na konsole;Gry Xbox 360</td>\n      <td>Mass Effect 2 (Xbox 360)</td>\n    </tr>\n    <tr>\n      <th>83039</th>\n      <td>110659</td>\n      <td>302</td>\n      <td>VIEW_PRODUCT</td>\n      <td>Gry i konsole;Gry na konsole;Gry Xbox 360</td>\n      <td>Fallout 3 (Xbox 360)</td>\n    </tr>\n  </tbody>\n</table>\n</div>"
     },
     "metadata": {},
     "execution_count": 132
    }
   ],
   "source": [
    "target_user_id = 302\n",
    "# Odrzucenie danych nie związanych z użytkownikiem o id 302\n",
    "sessions_data = sessions_data.loc[sessions_data['user_id']==target_user_id]\n",
    "# Złączenie danych sesji i produktów\n",
    "session_join_products = sessions_data.join(products_data.set_index('product_id'), on='product_id', how='left')\n",
    "session_join_products = session_join_products[['session_id', 'user_id', 'event_type', 'category_path', 'product_name']]\n",
    "session_join_products"
   ]
  },
  {
   "cell_type": "code",
   "execution_count": null,
   "metadata": {},
   "outputs": [],
   "source": []
  }
 ]
}