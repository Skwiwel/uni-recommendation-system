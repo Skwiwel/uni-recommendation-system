{
 "metadata": {
  "language_info": {
   "codemirror_mode": {
    "name": "ipython",
    "version": 3
   },
   "file_extension": ".py",
   "mimetype": "text/x-python",
   "name": "python",
   "nbconvert_exporter": "python",
   "pygments_lexer": "ipython3",
   "version": "3.9.2-final"
  },
  "orig_nbformat": 2,
  "kernelspec": {
   "name": "python392jvsc74a57bd0dbb75448b7a0532f8e064e57b28c280be0d7b039aa067963504bfbfd0b59d304",
   "display_name": "Python 3.9.2 64-bit ('env')"
  }
 },
 "nbformat": 4,
 "nbformat_minor": 2,
 "cells": [
  {
   "source": [
    "# IUM projekt - etap 2\n",
    "### Jakub Grzechociński  \n",
    "### Piotr Sawicki\n"
   ],
   "cell_type": "markdown",
   "metadata": {}
  },
  {
   "source": [
    "## Treść zadania\n",
    "> Są osoby, które wchodzą na naszą stronę i nie mogą się zdecydować, którym produktom przyjrzeć się nieco lepiej. Może dało by się im coś polecić?\n",
    "\n",
    "## Streszczenie etapu pierwszego\n",
    "Do stworzenia jest system oferujący usługę rekomendacji produktów dla klientów sklepu internetowego. System opiera swoje działanie na danych przejrzeń i zakupów produktów przez użytkowników sklepu oraz na danych samych produktów.\n",
    "\n",
    "System oferuje rekomendacje na podstawie dwóch oddzielnych modeli:\n",
    "- `popularnościowy` bazujący na względnej popularności produktów i kategorii oraz preferencji użytkownika\n",
    "- `collaborative filtering` odtwarzający podobieństwa między klientami\n",
    "\n",
    "W ramach implementacji systemu należy utworzyć interfejs dla modeli rekomendacji w postaci mikroserwisu. W wyniku jego działania aplikacje klienckie mogą uzyskiwać rekomendacje produktów na podstawie id użytkownika. System pozwala na działanie z wykorzystaniem jednego z dwóch modeli lub w trybie testu A/B dla porównania modeli.\n",
    "\n",
    "W etapie pierwszym wykonana została analiza danych, w ramach której zidentyfikowane zostały problemy oraz oszacowano, że system jest w stanie skutecznie rekomendować na podstawie danych. Podczas wykonywania etapu drugiego okazało się, że w danych jest jednak błąd dotyczący dystrybucji kategorii w danych zakupów. Ta dokumentacja odnosi się do nowego, poprawionego zestawu danych."
   ],
   "cell_type": "markdown",
   "metadata": {}
  },
  {
   "source": [
    "## Zaimplementowane modele \n",
    "\n",
    "### Model popularnościowy \n",
    "\n",
    "Model opiera swoje działanie na względnej popularności przedmiotów oraz ich kategorii. Zliczana jest ilość wyświetleń oraz zakupów każdego z produktów, przy czym zakup ma mnożnik X9 (jest to jeden z hiperparametrów modelu). Produkty są sortowane zgodnie z tak oszacowaną popularnością wewnątrz swoich kategorii. \n",
    "\n",
    "Następnie na podstawie przeglądania i zakupów każdego klienta wyznaczona zostaje jego najczęściej wybierana kategoria. Pierwszymi rekomendacjami modelu będą najpopularniejsze produkty, których dany klient jeszcze nie widział z najczęściej wybieranej kategorii. Jeżeli do tej pory liczba rekomendacji nie spełnia wymagań, wyznaczona zostaje kolejna kategoria. Wybierana jest kategoria najbardziej zbliżona do poprzedniej, przy czym bliskość określona jest jako liczba wspólnych nadkategorii, więc np. kategoria „Gry; Gry Xbox” będzie bliższa kategorii „Gry; Gry PC” niż „RTV; Telewizory”. Jeżeli w tym kroku algorytmu do wyboru jest kilka, tak samo bliskich, kategorii, wybierana jest ta, z której klient najczęściej przeglądał i kupował produkty. Z nowo wybranej kategorii znów wybierane są produkty, których klient jeszcze nie przeglądał. Proces ten powtarza się do wyczerpania kategorii. Jeżeli nawet wtedy nie udało się wybrać wymaganej liczby rekomendacji, do rekomendacji zostaną dodane produkty, które klient już przeglądał, według tego samego algorytmu.  \n",
    "\n",
    "Model ten nie zawiera elementów uczenia maszynowego. Jest to “deterministyczny” model bazujący na prostej statystyce.  \n",
    "\n",
    "Jego wadami są: \n",
    "- mała umiejętność dopasowania rekomendacji pod konkretnego klienta \n",
    "- nieuwzględnianie nieodzwierciedlonych bezpośrednio w danych atrybutów produktów \n",
    "- praktyczny brak możliwości rekomendacji produktu spoza kategorii bezpośredniego zainteresowania użytkownika.  \n",
    "\n",
    "Zaletami: \n",
    "- Prosta struktura modelu pozwala łatwo uzasadnić jego bazową skuteczność \n",
    "- Względna odporność na znaczące zmiany struktury danych i anomalii w danych \n",
    "- Praktyczny brak wymagań dotyczących nadzoru ze względu na małą ilość hiperparametrów i ich niezależność od ilości danych w bazie \n",
    "\n",
    "### Model collaborative filtering \n",
    "\n",
    "Model dopasowuje klientów do siebie na podstawie ich podobieństwa. Podobieństwo obliczane jest na podstawie przejrzeń i zakupów poszczególnych produktów między użytkownikami sklepu.  \n",
    "\n",
    "Dla każdej pary klient-produkt wyznaczana jest „ocena”, która wynosi 2, jeżeli klient kupił dany produkt lub 1, jeżeli tylko go przeglądał. Następnie „oceny” dla par, które nie zostały wyznaczone, obliczane są za pomocą algorytmu SVD. Rekomendacje dla danego klienta wyznaczane są poprzez posortowanie obliczonych przez algorytm SVD ocen związanych z danym klientem malejąco i zwrócenie odpowiadającym im produktów.  W przypadku, gdy liczba rekomendacji nie spełnia wymagań, wybierane są produkty, które klient już widział. \n",
    "\n",
    "Porównanie do modelu popularnościowego: \n",
    "\n",
    "Zalety: \n",
    "- Duża umiejętność dopasowania do indywidualnych preferencji użytkownika na podstawie jego podobieństwa do innych użytkowników. \n",
    "- Uwzględnianie ukrytych atrybutów produktów poprzez ich niejawne grupowanie szacowane na podstawie preferencji użytkowników. \n",
    "- Zdolność do rekomendacji produktów spoza bezpośredniego zainteresowania klienta. \n",
    "\n",
    "Wady: \n",
    "- Skomplikowana struktura modelu z elementem typu “black-box” - trudno wyjaśnić przyczynę skuteczności modelu. Dowód zasadności działania modelu zakłada istnienie “dobrych” wag modelu niemożliwych do uzyskania analitycznie. \n",
    "- Restrukturyzacja danych lub występowanie w nich anomalii mogą spowodować widoczne pogorszenie skuteczności modelu \n",
    "- Wraz z napływem danych model wymagać może dopasowania hiperparametrów w celu utrzymania skuteczności "
   ],
   "cell_type": "markdown",
   "metadata": {}
  },
  {
   "source": [
    "## Porównanie skuteczności modeli \n",
    "\n",
    "Obiektywne wyznaczenie skuteczności modelu rekomendacji na danych offline jest trudne, ponieważ dane te zostały zebrane, gdy system działał bez rekomendacji. Możemy jednak sprawdzić, gdy model zostanie poinformowany tylko o części akcji klienta, czy wśród zwróconych rekomendacji znajdują się produkty, które klient przeglądał lub, co lepiej, kupił, ale model nie został o tym poinformowany. Test taki bada tak naprawdę tylko zdolności predykcyjne modelu, lecz zdolność ta ogólnie rzecz biorąc jest porządana także w modelach rekomendacji. \n",
    "\n",
    "Wyznaczenie skuteczności modeli w taki sposób możliwe jest używając skryptu `model_test.py`. Skrypt ten dla każdego klienta ogranicza wiedzę modelu do 10 pierwszych produktów, które klient przeglądał, zachowując całą wiedzę o pozostałych klientach, a następnie generuje rekomendacje na podstawie tak zmodyfikowanej bazy danych. Następnie dla każdego klienta wyznaczane są wartości precision@k i recall@k, gdzie k to zadana liczba rekomendacji do wyznaczenia przez model. Precision@k to stosunek liczby rekomendowanych przedmiotów, które zostały zakupione przez klienta (o czym model, ucząc się, nie wiedział), do liczby rekomendacji. Recall@k to stosunek liczby rekomendowanych przedmiotów, które zostały zakupione przez klienta do liczby różnych przedmiotów, które kupił. Ostateczna skuteczność modelu określana jest na podstawie obu wartości precision@k i recall@k uśrednionych dla ilości przeprowadzonych prób. \n",
    "\n",
    "Skrypt `model_test.py` pozwala na określenie średnich wartości precision@k i recall@k. Wybór modelu do przetestowania jest możliwy poprzez podanie pierwszego argumenty wywołania skryptu: ‘cf’ dla model collaborative filtering, ‘mp’ dla modelu popularnościowego lub ‘rand’ dla losowych rekomendacji. Drugim argumentem wywołania skryptu może być liczba rekomendacji, którą powinien określać model. Aby ustawić liczbę rekomendacji na np. 10, należy uruchomić skrypt z argumentem `-k10`. Argument `-j` określa, dla ilu klientów na raz liczyć wartości. Domyślne argumenty to `model = cf, k = 10 i j = 8`. W przypadku wyboru modelu wynik liczony jest jednokrotnie, określając precision@k i recall@k dla każdego klienta, podczas gdy w przypadku losowych rekomendacji wynik jest uśredniany po 10 przebiegach, tak aby wyniki podczas różnych uruchomień były do siebie zbliżone. \n",
    "\n",
    "Uruchamiając skrypt dla obu modeli i losowego wyznaczania 10 rekomendacji wyniki są następujące: \n",
    "\n",
    "Model | Precision@10 | Recall@10 \n",
    "--- | --- | --- \n",
    "Rekomendacje losowe  | 0.03 | 0.04 \n",
    "Popularnościowy  | 0.22 | 0.28 \n",
    "Collaborative Filtering  | 0.65 | 0.86 \n",
    "\n",
    "Model collaborative filtering o wiele lepiej, w porównaniu do podstawowego modelu, jest w stanie przewidzieć przyszłe akcje klientów mając dane o innych klientach oraz szczątkowe dane o przeszłych akcjach danego klienta. W prawdziwym sklepie rekomendacje wyznaczane przez ten model powinny więc prowadzić do zwiększenia liczby odwiedzin stron przedmiotów i zakupów w sklepie internetowym. "
   ],
   "cell_type": "markdown",
   "metadata": {}
  },
  {
   "source": [
    "## Strojenie hiperparametrów \n",
    "\n",
    "Strojenie hiperparametrów algorytmu SVD, użytego w modelu Collaborative Filtering, możliwe jest za pomocą skryptu `tune_parameters.py`, który w sposób losowy dobiera wartości parametrów i sprawdza wartości precision@10 i recall@10 modelu z dobranymi parametrami, ostatecznie drukując wartości, dla których suma precision@10 i recall@10 była największa. Model podczas strojenia jest uczony za pomocą połowy danych ze zbioru trenującego. Ostateczne wartości hiperparametrów zostały ustalone po próbie 1000 różnych kombinacji. "
   ],
   "cell_type": "markdown",
   "metadata": {}
  },
  {
   "source": [
    "## Mikroserwis \n",
    "\n",
    "W ramach wykonania zadania utworzony został mikroserwis oferujący usługę rekomendacji dla użytkowników. Serwis składa się z pełnowymiarowego rozwiązania w postaci oprogramowania zarządzającego pobieraniem i czyszczeniem danych, uruchamianiem skryptów generujących rekomendacje, serwerem HTTP wraz z handlerem w postaci oferty rekomendacji, oraz bazą danych do obsługi i zapisywania żądań podczas testów A/B. \n",
    "\n",
    "Serwis napisany jest w języku Go. Modele rekomendacji i skrypty czyszczące dane w języku Python są przez niego okresowo wywoływane w celu generacji nowych zestawów rekomendacji dla każdego użytkownika.  Rekomendacje dla każdego użytkownika z osobna zapisywane są w plikach `.json`. Wraz z nadejściem żądania serwis przeszukuje katalog w poszukiwania odpowiedniej rekomendacji. Jeśli rekomendacji nie ma serwis nie przekazuje rekomendacji. \n",
    "\n",
    "Interfejs serwisu jest zrealizowany na podstawie protokołu HTTP. Interfejs wykonany jest zgodnie ze strukturą RESTful oraz JSON API. Oprogramowanie klienckie chcąc otrzymać rekomendacje wysyła prośbę HTTP GET wskazując odpowiedni adres, id użytkownika oraz, opcjonalnie, ile rekomendacji chce uzyskać. \n",
    "\n",
    "Struktura zapytania: \n",
    "``` \n",
    "HTTP GET <service_address>/recommendations?user_id=<user_id>&num=<num_recommendations> \n",
    "``` \n",
    "W razie znalezienia rekomendacji dla użytkownika serwis odpowiada w formie zbliżonej do: \n",
    "``` \n",
    "HTTP/1.1 200 OK \n",
    "Content-Type: application/json \n",
    "{\"type\":\"user\",\"id\":___,\"attributes\":{\"recommendations\":[___, ___, ...]}} \n",
    "``` \n",
    "Serwis oferuje trzy tryby działania definiujące, którego modelu rekomendacje powinny być serwowane: \n",
    "- Rekomendacje modelu popularnościowego \n",
    "- Rekomendacje modelu CF \n",
    "- Tryb testu A/B oferujący mieszane rekomendacje modeli \n",
    "\n",
    "W czasie działania trybu A/B serwis komunikuje się z bazą danych (w SQLite) w celu zapisu przypisania użytkownika do konkretnego modelu oraz znajdywania odpowiedniego modelu dla użytkowników nie zapisanych w bazie. Utrzymywana jest informacja o ilości użytkowników przypisanych do danego modelu w celu sprawiedliwego porównywania modeli (serwis dopasowuje nadchodzące żądania nowych użytkowników tak, aby oba modele miały po tyle samo użytkowników). Informacja o przypisanym modelu jest zapisywana dla każdego z użytkowników z osobna, a przypisany model pozostaje ten sam, dopóki manualnie nie zresetowany zostanie test A/B.  Cały proces jest przezroczysty dla klientów sklepu (i oprogramowania klienckiego), aczkolwiek przy pierwszym połączeniu danego użytkownika czas odpowiedzi serwisu jest zauważalnie dłuższy (ale nieprzekraczający 0.2 sekundy), gdyż serwis musi ustalić i zapisać, do którego modelu przypisać użytkownika. \n",
    "\n",
    "Cały serwis opakowany jest w obraz kontenera Docker’a w celu jego prostego załadowania na serwer chmurowy. W plikach źródłowy zawarty jest `Dockerfile` pozwalający na zbudowanie obrazu, a sam obraz dostępny jest publicznie na serwisie [DockerHub](https://hub.docker.com/r/skwiwel/uni-recommendation-system). Obraz nie zawiera żadnych użytecznych danych. Dane wejściowe sklepu i baza danych A/B muszą być podmontowane do kontenera. \n",
    "\n",
    "Szczegóły uruchomieniowe serwisu znajdują się w pliku `Readme.md` w katalogu korzenia repozytorium. "
   ],
   "cell_type": "markdown",
   "metadata": {}
  },
  {
   "source": [
    "## Pokaz działania \n",
    "\n",
    "Serwis został umieszczony na maszynie w Oracle Cloud pod publicznym adresem ip `130.61.188.211`. Można więc przetestować jego działanie z dowolnego miejsca. Serwis odpowiada na odpowiednio sformułowane żądanie HTTP.   \n",
    "\n",
    "Np. Aby uzyskać otrzymać odpowiedź zawierającą zestaw dziesięciu rekomendacji dla klienta o id `302` wystarczy wysłać zapytanie HTTP GET na adres: \n",
    "``` \n",
    " 130.61.188.211/recommendations?user_id=302&num=10 \n",
    "``` \n",
    "W linii poleceń można szybko wykonać takie zapytanie przy pomocy narzędzia `curl`: \n",
    "``` \n",
    "curl -i \"130.61.188.211/recommendations?user_id=302&num=10\" \n",
    "``` \n",
    "Odpowiedź serwera: \n",
    "``` \n",
    "HTTP/1.1 200 OK\n",
    "Content-Type: application/json\n",
    "Date: Thu, 01 Apr 2021 16:55:16 GMT\n",
    "Content-Length: 110\n",
    "\n",
    "{\"type\":\"user\",\"id\":302,\"attributes\":{\"recommendations\":[1055,1043,1010,1290,1039,1077,1051,1285,1124,1301]}}\n",
    "``` \n",
    "\n",
    "Serwer chodzący pod publicznym IP pracuje w trybie testu A/B. Przyporządkowanie użytkowników do modelu zapisywane jest w bazie danych SQLite. Po stronie serwera możemy sprawdzić, który system wygenerował ten zestaw rekomendacji: \n",
    "``` \n",
    "sqlite> SELECT * FROM user_to_model WHERE user_id == 302;\n",
    "user_id|model_id\n",
    "302|2\n",
    "``` \n",
    "Następnie szybki wgląd w przypisanie `model_id` do zrozumiałej nazwy: \n",
    "``` \n",
    "sqlite> SELECT * FROM models;\n",
    "model_id|name|user_count\n",
    "1|Popularity|7\n",
    "2|Collaborative|8 \n",
    "``` \n",
    "\n",
    "Dla zapytania dla użytkowinika o `user_id` 302 otrzymaliśmy więc rekomendacje od systemu `Collaborative`, czyli modelu CF. Na podstawie tak zbieranych danych oraz dalszych danych zbieranych przez sklep internetowy można oszacować skuteczność obu modeli. \n",
    "\n",
    "Warto by było teraz sprawdzić jakie produkty zostały zarekomendowane. Są to produkty o `product_id`: \n",
    "```\n",
    "1055,1043,1010,1290,1039,1077,1051,1285,1124,1301\n",
    "``` "
   ],
   "cell_type": "markdown",
   "metadata": {}
  },
  {
   "cell_type": "code",
   "execution_count": 19,
   "metadata": {},
   "outputs": [],
   "source": [
    "import datetime\n",
    "import numpy as np\n",
    "import pandas as pd\n",
    "\n",
    "data_dir = 'data/'\n",
    "data_raw_dir = 'data_raw/'\n",
    "products_file = 'products.jsonl'\n",
    "sessions_file = 'sessions.jsonl'\n",
    "products_filepath = data_raw_dir + products_file\n",
    "sessions_filepath = data_dir + sessions_file\n",
    "products_data = pd.read_json(products_filepath, convert_dates=False, lines=True)\n",
    "products_data = products_data.drop(columns=['price'])\n",
    "sessions_data = pd.read_json(sessions_filepath, convert_dates=False, lines=True)"
   ]
  },
  {
   "cell_type": "code",
   "execution_count": 20,
   "metadata": {},
   "outputs": [
    {
     "output_type": "execute_result",
     "data": {
      "text/plain": [
       "     product_id                        product_name  \\\n",
       "54         1055  Call of Duty Modern Warfare 3 (PC)   \n",
       "42         1043          Fight Night Champion (PS3)   \n",
       "9          1010               BioShock 2 (Xbox 360)   \n",
       "289        1290                     Philips SDV5120   \n",
       "38         1039                     LCD Asus VS197D   \n",
       "76         1077                 Kyocera FS-C2026MFP   \n",
       "50         1051              Spec Ops The Line (PC)   \n",
       "284        1285                      Opticum AX-800   \n",
       "123        1124                Devil May Cry 4 (PC)   \n",
       "300        1301                     Vivanco TVA 400   \n",
       "\n",
       "                                         category_path  \n",
       "54                       Gry i konsole;Gry komputerowe  \n",
       "42       Gry i konsole;Gry na konsole;Gry PlayStation3  \n",
       "9            Gry i konsole;Gry na konsole;Gry Xbox 360  \n",
       "289  Sprzęt RTV;Video;Telewizory i akcesoria;Anteny...  \n",
       "38                     Komputery;Monitory;Monitory LCD  \n",
       "76   Komputery;Drukarki i skanery;Biurowe urządzeni...  \n",
       "50                       Gry i konsole;Gry komputerowe  \n",
       "284  Sprzęt RTV;Video;Telewizory i akcesoria;Anteny...  \n",
       "123                      Gry i konsole;Gry komputerowe  \n",
       "300  Sprzęt RTV;Video;Telewizory i akcesoria;Anteny...  "
      ],
      "text/html": "<div>\n<style scoped>\n    .dataframe tbody tr th:only-of-type {\n        vertical-align: middle;\n    }\n\n    .dataframe tbody tr th {\n        vertical-align: top;\n    }\n\n    .dataframe thead th {\n        text-align: right;\n    }\n</style>\n<table border=\"1\" class=\"dataframe\">\n  <thead>\n    <tr style=\"text-align: right;\">\n      <th></th>\n      <th>product_id</th>\n      <th>product_name</th>\n      <th>category_path</th>\n    </tr>\n  </thead>\n  <tbody>\n    <tr>\n      <th>54</th>\n      <td>1055</td>\n      <td>Call of Duty Modern Warfare 3 (PC)</td>\n      <td>Gry i konsole;Gry komputerowe</td>\n    </tr>\n    <tr>\n      <th>42</th>\n      <td>1043</td>\n      <td>Fight Night Champion (PS3)</td>\n      <td>Gry i konsole;Gry na konsole;Gry PlayStation3</td>\n    </tr>\n    <tr>\n      <th>9</th>\n      <td>1010</td>\n      <td>BioShock 2 (Xbox 360)</td>\n      <td>Gry i konsole;Gry na konsole;Gry Xbox 360</td>\n    </tr>\n    <tr>\n      <th>289</th>\n      <td>1290</td>\n      <td>Philips SDV5120</td>\n      <td>Sprzęt RTV;Video;Telewizory i akcesoria;Anteny...</td>\n    </tr>\n    <tr>\n      <th>38</th>\n      <td>1039</td>\n      <td>LCD Asus VS197D</td>\n      <td>Komputery;Monitory;Monitory LCD</td>\n    </tr>\n    <tr>\n      <th>76</th>\n      <td>1077</td>\n      <td>Kyocera FS-C2026MFP</td>\n      <td>Komputery;Drukarki i skanery;Biurowe urządzeni...</td>\n    </tr>\n    <tr>\n      <th>50</th>\n      <td>1051</td>\n      <td>Spec Ops The Line (PC)</td>\n      <td>Gry i konsole;Gry komputerowe</td>\n    </tr>\n    <tr>\n      <th>284</th>\n      <td>1285</td>\n      <td>Opticum AX-800</td>\n      <td>Sprzęt RTV;Video;Telewizory i akcesoria;Anteny...</td>\n    </tr>\n    <tr>\n      <th>123</th>\n      <td>1124</td>\n      <td>Devil May Cry 4 (PC)</td>\n      <td>Gry i konsole;Gry komputerowe</td>\n    </tr>\n    <tr>\n      <th>300</th>\n      <td>1301</td>\n      <td>Vivanco TVA 400</td>\n      <td>Sprzęt RTV;Video;Telewizory i akcesoria;Anteny...</td>\n    </tr>\n  </tbody>\n</table>\n</div>"
     },
     "metadata": {},
     "execution_count": 20
    }
   ],
   "source": [
    "product_list = [1055,1043,1010,1290,1039,1077,1051,1285,1124,1301]\n",
    "# get only the products from list\n",
    "recommended_products = products_data[products_data.product_id.isin(product_list)]\n",
    "# index them in the order from the list\n",
    "recommended_products.reindex(recommended_products.product_id.map({x: i for i, x in enumerate(product_list)}).sort_values().index)"
   ]
  },
  {
   "source": [
    "Produkty najlepsze zdaniem modelu są wyżej, gorsze niżej. Model CF zdaje się polecać dość różne produkty, między innymi gry komputerowe i na pozostałe platformy.\n",
    "\n",
    "Poniżej sprawdzamy jakie produkty użytkownik oglądał do tej pory. Warto wspomnieć, że ten konkretnie użytkownik został utworzony przez nas sztucznie na potrzeby tego testu."
   ],
   "cell_type": "markdown",
   "metadata": {}
  },
  {
   "cell_type": "code",
   "execution_count": 21,
   "metadata": {},
   "outputs": [
    {
     "output_type": "execute_result",
     "data": {
      "text/plain": [
       "        session_id  user_id    event_type                  category_path  \\\n",
       "181252      110659      302  VIEW_PRODUCT  Gry i konsole;Gry komputerowe   \n",
       "181253      110659      302  VIEW_PRODUCT  Gry i konsole;Gry komputerowe   \n",
       "181254      110659      302  VIEW_PRODUCT  Gry i konsole;Gry komputerowe   \n",
       "181255      110659      302  VIEW_PRODUCT  Gry i konsole;Gry komputerowe   \n",
       "181256      110659      302  VIEW_PRODUCT  Gry i konsole;Gry komputerowe   \n",
       "181257      110659      302  VIEW_PRODUCT  Gry i konsole;Gry komputerowe   \n",
       "\n",
       "                                  product_name  \n",
       "181252                           Bioshock (PC)  \n",
       "181253            Civilization 4 Warlords (PC)  \n",
       "181254  Civilization 5 Bogowie i Królowie (PC)  \n",
       "181255         The Elder Scrolls 5 Skyrim (PC)  \n",
       "181256                  Bioshock Infinite (PC)  \n",
       "181257                         Just Cause (PC)  "
      ],
      "text/html": "<div>\n<style scoped>\n    .dataframe tbody tr th:only-of-type {\n        vertical-align: middle;\n    }\n\n    .dataframe tbody tr th {\n        vertical-align: top;\n    }\n\n    .dataframe thead th {\n        text-align: right;\n    }\n</style>\n<table border=\"1\" class=\"dataframe\">\n  <thead>\n    <tr style=\"text-align: right;\">\n      <th></th>\n      <th>session_id</th>\n      <th>user_id</th>\n      <th>event_type</th>\n      <th>category_path</th>\n      <th>product_name</th>\n    </tr>\n  </thead>\n  <tbody>\n    <tr>\n      <th>181252</th>\n      <td>110659</td>\n      <td>302</td>\n      <td>VIEW_PRODUCT</td>\n      <td>Gry i konsole;Gry komputerowe</td>\n      <td>Bioshock (PC)</td>\n    </tr>\n    <tr>\n      <th>181253</th>\n      <td>110659</td>\n      <td>302</td>\n      <td>VIEW_PRODUCT</td>\n      <td>Gry i konsole;Gry komputerowe</td>\n      <td>Civilization 4 Warlords (PC)</td>\n    </tr>\n    <tr>\n      <th>181254</th>\n      <td>110659</td>\n      <td>302</td>\n      <td>VIEW_PRODUCT</td>\n      <td>Gry i konsole;Gry komputerowe</td>\n      <td>Civilization 5 Bogowie i Królowie (PC)</td>\n    </tr>\n    <tr>\n      <th>181255</th>\n      <td>110659</td>\n      <td>302</td>\n      <td>VIEW_PRODUCT</td>\n      <td>Gry i konsole;Gry komputerowe</td>\n      <td>The Elder Scrolls 5 Skyrim (PC)</td>\n    </tr>\n    <tr>\n      <th>181256</th>\n      <td>110659</td>\n      <td>302</td>\n      <td>VIEW_PRODUCT</td>\n      <td>Gry i konsole;Gry komputerowe</td>\n      <td>Bioshock Infinite (PC)</td>\n    </tr>\n    <tr>\n      <th>181257</th>\n      <td>110659</td>\n      <td>302</td>\n      <td>VIEW_PRODUCT</td>\n      <td>Gry i konsole;Gry komputerowe</td>\n      <td>Just Cause (PC)</td>\n    </tr>\n  </tbody>\n</table>\n</div>"
     },
     "metadata": {},
     "execution_count": 21
    }
   ],
   "source": [
    "target_user_id = 302\n",
    "# Odrzucenie danych nie związanych z użytkownikiem o id 302\n",
    "sessions_data_for_user = sessions_data.loc[sessions_data['user_id']==target_user_id]\n",
    "# Złączenie danych sesji i produktów\n",
    "session_join_products = sessions_data_for_user.join(products_data.set_index('product_id'), on='product_id', how='left')\n",
    "session_join_products = session_join_products[['session_id', 'user_id', 'event_type', 'category_path', 'product_name']]\n",
    "session_join_products"
   ]
  },
  {
   "source": [
    "Użytkownik oglądał więc wyłącznie gry komputerowe.\n",
    "\n",
    "Model CF poleca produkty zgodnie z podobieństwem aktywności użytkownika do aktywności innych klientów w bazie danych. Może wydawać się dziwne, że model polecił temu klientowi produkty o jedynie niebezpośrednim związku z produktami przez niego oglądanymmi, jednak to są właśnie produkty, które cieszyły się zainteresowaniem innych użytkowników. Rekomendacje opierają się na danych w bazie, a zakładając, że dane dobrze odzwierciedlają aktywność użytkowników, to rekomendacje są prawidłowe."
   ],
   "cell_type": "markdown",
   "metadata": {}
  },
  {
   "source": [
    "Dla porównania można sprawdzić jeszcze rekomendacje modelu popularnościowego dla klienta o id `302`:"
   ],
   "cell_type": "markdown",
   "metadata": {}
  },
  {
   "cell_type": "code",
   "execution_count": 24,
   "metadata": {},
   "outputs": [
    {
     "output_type": "execute_result",
     "data": {
      "text/plain": [
       "     product_id                        product_name  \\\n",
       "54         1055  Call of Duty Modern Warfare 3 (PC)   \n",
       "50         1051              Spec Ops The Line (PC)   \n",
       "111        1112                    Singularity (PC)   \n",
       "140        1141    Król Futbolu Piłkarski Quiz (PC)   \n",
       "168        1169                     Bus Driver (PC)   \n",
       "100        1101                    Dragonshard (PC)   \n",
       "131        1132                A New Beginning (PC)   \n",
       "82         1083              MAJESTY ANTOLOGIA (PC)   \n",
       "143        1144               Street Fighter 4 (PC)   \n",
       "101        1102               Dream Pinball 3D (PC)   \n",
       "\n",
       "                     category_path  \n",
       "54   Gry i konsole;Gry komputerowe  \n",
       "50   Gry i konsole;Gry komputerowe  \n",
       "111  Gry i konsole;Gry komputerowe  \n",
       "140  Gry i konsole;Gry komputerowe  \n",
       "168  Gry i konsole;Gry komputerowe  \n",
       "100  Gry i konsole;Gry komputerowe  \n",
       "131  Gry i konsole;Gry komputerowe  \n",
       "82   Gry i konsole;Gry komputerowe  \n",
       "143  Gry i konsole;Gry komputerowe  \n",
       "101  Gry i konsole;Gry komputerowe  "
      ],
      "text/html": "<div>\n<style scoped>\n    .dataframe tbody tr th:only-of-type {\n        vertical-align: middle;\n    }\n\n    .dataframe tbody tr th {\n        vertical-align: top;\n    }\n\n    .dataframe thead th {\n        text-align: right;\n    }\n</style>\n<table border=\"1\" class=\"dataframe\">\n  <thead>\n    <tr style=\"text-align: right;\">\n      <th></th>\n      <th>product_id</th>\n      <th>product_name</th>\n      <th>category_path</th>\n    </tr>\n  </thead>\n  <tbody>\n    <tr>\n      <th>54</th>\n      <td>1055</td>\n      <td>Call of Duty Modern Warfare 3 (PC)</td>\n      <td>Gry i konsole;Gry komputerowe</td>\n    </tr>\n    <tr>\n      <th>50</th>\n      <td>1051</td>\n      <td>Spec Ops The Line (PC)</td>\n      <td>Gry i konsole;Gry komputerowe</td>\n    </tr>\n    <tr>\n      <th>111</th>\n      <td>1112</td>\n      <td>Singularity (PC)</td>\n      <td>Gry i konsole;Gry komputerowe</td>\n    </tr>\n    <tr>\n      <th>140</th>\n      <td>1141</td>\n      <td>Król Futbolu Piłkarski Quiz (PC)</td>\n      <td>Gry i konsole;Gry komputerowe</td>\n    </tr>\n    <tr>\n      <th>168</th>\n      <td>1169</td>\n      <td>Bus Driver (PC)</td>\n      <td>Gry i konsole;Gry komputerowe</td>\n    </tr>\n    <tr>\n      <th>100</th>\n      <td>1101</td>\n      <td>Dragonshard (PC)</td>\n      <td>Gry i konsole;Gry komputerowe</td>\n    </tr>\n    <tr>\n      <th>131</th>\n      <td>1132</td>\n      <td>A New Beginning (PC)</td>\n      <td>Gry i konsole;Gry komputerowe</td>\n    </tr>\n    <tr>\n      <th>82</th>\n      <td>1083</td>\n      <td>MAJESTY ANTOLOGIA (PC)</td>\n      <td>Gry i konsole;Gry komputerowe</td>\n    </tr>\n    <tr>\n      <th>143</th>\n      <td>1144</td>\n      <td>Street Fighter 4 (PC)</td>\n      <td>Gry i konsole;Gry komputerowe</td>\n    </tr>\n    <tr>\n      <th>101</th>\n      <td>1102</td>\n      <td>Dream Pinball 3D (PC)</td>\n      <td>Gry i konsole;Gry komputerowe</td>\n    </tr>\n  </tbody>\n</table>\n</div>"
     },
     "metadata": {},
     "execution_count": 24
    }
   ],
   "source": [
    "product_list = [1055, 1051, 1112, 1141, 1169, 1101, 1132, 1083, 1144, 1102]\n",
    "# get only the products from list\n",
    "recommended_products = products_data[products_data.product_id.isin(product_list)]\n",
    "# index them in the order from the list\n",
    "recommended_products.reindex(recommended_products.product_id.map({x: i for i, x in enumerate(product_list)}).sort_values().index)"
   ]
  },
  {
   "source": [
    "Rekomendacje wyglądają bardziej rozsądnie, gdyż polecają tylko gry komputerowe. To, co jest jednak rozsądne dla czytającego ten raport nie musi być wcale tym, co jest rozsądne dla użytkowników, których aktywność zarejestrowana jest w bazie danych.\n",
    "\n",
    "Pomijając kwestie kategorii, widać, że wśród rekomendacji gier komputerowych modelu CF widnieją dwie najbardziej popularne gry komputerowe jakie polecił model popularnościowy. Wskazuje to, że model CF działa poprawnie, gdyż produkty popularne dla większości użytkowników powinny często występować w rekomendacjach modeli bazujących na Collaborative Filtering."
   ],
   "cell_type": "markdown",
   "metadata": {}
  }
 ]
}