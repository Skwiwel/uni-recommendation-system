{
 "metadata": {
  "language_info": {
   "codemirror_mode": {
    "name": "ipython",
    "version": 3
   },
   "file_extension": ".py",
   "mimetype": "text/x-python",
   "name": "python",
   "nbconvert_exporter": "python",
   "pygments_lexer": "ipython3",
   "version": "3.9.2-final"
  },
  "orig_nbformat": 2,
  "kernelspec": {
   "name": "python3",
   "display_name": "Python 3.9.2 64-bit ('env')",
   "metadata": {
    "interpreter": {
     "hash": "dbb75448b7a0532f8e064e57b28c280be0d7b039aa067963504bfbfd0b59d304"
    }
   }
  }
 },
 "nbformat": 4,
 "nbformat_minor": 2,
 "cells": [
  {
   "source": [
    "# IUM projekt - etap 2\n",
    "### Jakub Grzechociński  \n",
    "### Piotr Sawicki\n"
   ],
   "cell_type": "markdown",
   "metadata": {}
  },
  {
   "source": [
    "## Treść zadania\n",
    "> Są osoby, które wchodzą na naszą stronę i nie mogą się zdecydować, którym produktom przyjrzeć się nieco lepiej. Może dało by się im coś polecić?\n",
    "\n",
    "## Streszczenie etapu pierwszego\n",
    "Do stworzenia jest system oferujący usługę rekomendacji produktów dla klientów sklepu internetowego. System opiera swoje działanie na danych przejrzeń i zakupów produktów przez użytkowników sklepu oraz na danych samych produktów.\n",
    "\n",
    "System oferuje rekomendacje na podstawie dwóch oddzielnych modeli:\n",
    "- `popularnościowy` bazujący na względnej popularności produktów i kategorii oraz preferencji użytkownika\n",
    "- `collaborative filtering` odtwarzający podobieństwa między klientami\n",
    "\n",
    "W ramach implementacji systemu należy utworzyć interfejs dla modeli rekomendacji w postaci mikroserwisu. W wyniku jego działania aplikacje klienckie mogą uzyskiwać rekomendacje produktów na podstawie id użytkownika. System pozwala na działanie z wykorzystaniem jednego z dwóch modeli lub w trybie testu A/B dla porównania modeli.\n",
    "\n",
    "W etapie pierwszym wykonana została analiza danych, w ramach której zidentyfikowane zostały problemy oraz oszacowano, że system jest w stanie skutecznie rekomendować na podstawie danych."
   ],
   "cell_type": "markdown",
   "metadata": {}
  },
  {
   "source": [
    "## Zaimplementowane modele\n",
    "\n",
    "### Model popularnościowy\n",
    "Model opiera swoje działanie na względnej popularności przedmiotów oraz ich kategorii. Zliczana jest ilość wyświetlneń oraz zakupów każdego z produktów, przy czym zakup ma mnożnik X9 (jest to jeden z hiperparametrów modelu). Produkty są sortowane zgodnie z tak oszacowaną popularnością wewnątrz swoich karegorii. "
   ],
   "cell_type": "markdown",
   "metadata": {}
  },
  {
   "source": [
    "## Pokaz działania \n",
    "\n",
    "Serwis został umieszczony na maszynie w Oracle Cloud pod publicznym adresem ip `130.61.188.211`. Można więc przetestować jego działanie z dowolnego miejsca. Serwis odpowiada na odpowiednio sformułowane żądanie HTTP.   \n",
    "\n",
    "Np. Aby uzyskać otrzymać odpowiedź zawierającą zestaw dziesięciu rekomendacji dla klienta o id `120` wystarczy wysłać zapytanie HTTP GET na adres: \n",
    "``` \n",
    " 130.61.188.211/recommendations?user_id=121&num=10 \n",
    "``` \n",
    "W linii poleceń można szybko wykonać takie zapytanie przy pomocy narzędzia `curl`: \n",
    "``` \n",
    "curl -i \"130.61.188.211/recommendations?user_id=121&num=10\" \n",
    "``` \n",
    "Odpowiedź serwera: \n",
    "``` \n",
    "HTTP/1.1 200 OK \n",
    "Content-Type: application/json \n",
    "Date: Sun, 28 Mar 2021 16:30:32 GMT \n",
    "Content-Length: 110 \n",
    "  \n",
    "{\"type\":\"user\",\"id\":121,\"attributes\":{\"recommendations\":[1077,1076,1080,1095,1004,1005,1006,1007,1008,1009]}} \n",
    "``` \n",
    "\n",
    "Serwer chodzący pod publicznym IP pracuje w trybie testu A/B. Przyporządkowanie użytkowników do modelu zapisywane jest w bazie danych SQLite. Po stronie serwera możemy sprawdzić, który system wygenerował ten zestaw rekomendacji: \n",
    "``` \n",
    "sqlite> SELECT * FROM user_to_model WHERE user_id == 121; \n",
    "user_id|model_id \n",
    "121|2 \n",
    "``` \n",
    "Następnie szybki wgląd w przypisanie `model_id` do zrozumiałej nazwy: \n",
    "``` \n",
    "sqlite> SELECT * FROM models; \n",
    "model_id|name|user_count \n",
    "1|Popularity|4 \n",
    "2|Collaborative|4 \n",
    "``` \n",
    "\n",
    "Dla zapytania dla użytkowinika o `user_id` 121 otrzymaliśmy więc rekomendacje od systemu `Collaborative`, czyli modelu CF. Na podstawie tak zbieranych danych oraz dalszych danych zbieranych przez sklep internetowy można oszacować skuteczność obu modeli. \n",
    "\n",
    "Warto by było teraz sprawdzić jakie produkty zostały zarekomendowane. Są to produkty o `product_id`: \n",
    "```\n",
    "1077,1076,1080,1095,1004,1005,1006,1007,1008,1009 \n",
    "``` "
   ],
   "cell_type": "markdown",
   "metadata": {}
  },
  {
   "cell_type": "code",
   "execution_count": 1,
   "metadata": {},
   "outputs": [],
   "source": [
    "import datetime\n",
    "import numpy as np\n",
    "import pandas as pd\n",
    "\n",
    "data_dir = 'data/'\n",
    "data_raw_dir = 'data_raw/'\n",
    "products_file = 'products.jsonl'\n",
    "sessions_file = 'sessions.jsonl'\n",
    "products_filepath = data_raw_dir + products_file\n",
    "sessions_filepath = data_dir + sessions_file\n",
    "products_data = pd.read_json(products_filepath, convert_dates=False, lines=True)\n",
    "products_data = products_data.drop(columns=['price'])\n",
    "sessions_data = pd.read_json(sessions_filepath, convert_dates=False, lines=True)"
   ]
  },
  {
   "cell_type": "code",
   "execution_count": 6,
   "metadata": {},
   "outputs": [
    {
     "output_type": "execute_result",
     "data": {
      "text/plain": [
       "     product_id                   product_name  \\\n",
       "282        1283   Okulary 3D PHILIPS PTA436/00   \n",
       "0          1001  Telefon Siemens Gigaset DA310   \n",
       "317        1318          Plantronics Savi W710   \n",
       "276        1277        Apple iPad mini 64GB 4G   \n",
       "277        1278       Intenso Music Walker 8GB   \n",
       "275        1276           Apple iPad mini 64GB   \n",
       "280        1281                    Manta MM266   \n",
       "34         1035  Samsung Galaxy S III GT-i9300   \n",
       "233        1234                 Sony DVP-SR760   \n",
       "66         1067                     Nokia 3310   \n",
       "\n",
       "                                         category_path  \n",
       "282  Sprzęt RTV;Video;Telewizory i akcesoria;Okular...  \n",
       "0            Telefony i akcesoria;Telefony stacjonarne  \n",
       "317                         Sprzęt RTV;Audio;Słuchawki  \n",
       "276              Komputery;Tablety i akcesoria;Tablety  \n",
       "277  Sprzęt RTV;Przenośne audio i video;Odtwarzacze...  \n",
       "275              Komputery;Tablety i akcesoria;Tablety  \n",
       "280  Sprzęt RTV;Przenośne audio i video;Odtwarzacze...  \n",
       "34             Telefony i akcesoria;Telefony komórkowe  \n",
       "233                   Sprzęt RTV;Video;Odtwarzacze DVD  \n",
       "66             Telefony i akcesoria;Telefony komórkowe  "
      ],
      "text/html": "<div>\n<style scoped>\n    .dataframe tbody tr th:only-of-type {\n        vertical-align: middle;\n    }\n\n    .dataframe tbody tr th {\n        vertical-align: top;\n    }\n\n    .dataframe thead th {\n        text-align: right;\n    }\n</style>\n<table border=\"1\" class=\"dataframe\">\n  <thead>\n    <tr style=\"text-align: right;\">\n      <th></th>\n      <th>product_id</th>\n      <th>product_name</th>\n      <th>category_path</th>\n    </tr>\n  </thead>\n  <tbody>\n    <tr>\n      <th>282</th>\n      <td>1283</td>\n      <td>Okulary 3D PHILIPS PTA436/00</td>\n      <td>Sprzęt RTV;Video;Telewizory i akcesoria;Okular...</td>\n    </tr>\n    <tr>\n      <th>0</th>\n      <td>1001</td>\n      <td>Telefon Siemens Gigaset DA310</td>\n      <td>Telefony i akcesoria;Telefony stacjonarne</td>\n    </tr>\n    <tr>\n      <th>317</th>\n      <td>1318</td>\n      <td>Plantronics Savi W710</td>\n      <td>Sprzęt RTV;Audio;Słuchawki</td>\n    </tr>\n    <tr>\n      <th>276</th>\n      <td>1277</td>\n      <td>Apple iPad mini 64GB 4G</td>\n      <td>Komputery;Tablety i akcesoria;Tablety</td>\n    </tr>\n    <tr>\n      <th>277</th>\n      <td>1278</td>\n      <td>Intenso Music Walker 8GB</td>\n      <td>Sprzęt RTV;Przenośne audio i video;Odtwarzacze...</td>\n    </tr>\n    <tr>\n      <th>275</th>\n      <td>1276</td>\n      <td>Apple iPad mini 64GB</td>\n      <td>Komputery;Tablety i akcesoria;Tablety</td>\n    </tr>\n    <tr>\n      <th>280</th>\n      <td>1281</td>\n      <td>Manta MM266</td>\n      <td>Sprzęt RTV;Przenośne audio i video;Odtwarzacze...</td>\n    </tr>\n    <tr>\n      <th>34</th>\n      <td>1035</td>\n      <td>Samsung Galaxy S III GT-i9300</td>\n      <td>Telefony i akcesoria;Telefony komórkowe</td>\n    </tr>\n    <tr>\n      <th>233</th>\n      <td>1234</td>\n      <td>Sony DVP-SR760</td>\n      <td>Sprzęt RTV;Video;Odtwarzacze DVD</td>\n    </tr>\n    <tr>\n      <th>66</th>\n      <td>1067</td>\n      <td>Nokia 3310</td>\n      <td>Telefony i akcesoria;Telefony komórkowe</td>\n    </tr>\n  </tbody>\n</table>\n</div>"
     },
     "metadata": {},
     "execution_count": 6
    }
   ],
   "source": [
    "product_list = [1283,1001,1318,1277,1278,1276,1281,1035,1234,1067]\n",
    "# get only the products from list\n",
    "recommended_products = products_data[products_data.product_id.isin(product_list)]\n",
    "# index them in the order from the list\n",
    "recommended_products.reindex(recommended_products.product_id.map({x: i for i, x in enumerate(product_list)}).sort_values().index)"
   ]
  },
  {
   "source": [
    "Produkty najlepsze zdaniem modelu są wyżej, gorsze niżej. Model zdaje się polecać klientowi przede wszystkim skanery."
   ],
   "cell_type": "markdown",
   "metadata": {}
  },
  {
   "cell_type": "code",
   "execution_count": 3,
   "metadata": {},
   "outputs": [
    {
     "output_type": "execute_result",
     "data": {
      "text/plain": [
       "       session_id  user_id    event_type  \\\n",
       "0          100002      102  VIEW_PRODUCT   \n",
       "1          100002      102  VIEW_PRODUCT   \n",
       "2          100002      102  VIEW_PRODUCT   \n",
       "3          100002      102  VIEW_PRODUCT   \n",
       "4          100003      102  VIEW_PRODUCT   \n",
       "...           ...      ...           ...   \n",
       "83035      110659      302  VIEW_PRODUCT   \n",
       "83036      110659      302  VIEW_PRODUCT   \n",
       "83037      110659      302  VIEW_PRODUCT   \n",
       "83038      110659      302  VIEW_PRODUCT   \n",
       "83039      110659      302  VIEW_PRODUCT   \n",
       "\n",
       "                                           category_path  \\\n",
       "0      Sprzęt RTV;Video;Telewizory i akcesoria;Anteny...   \n",
       "1      Sprzęt RTV;Video;Telewizory i akcesoria;Anteny...   \n",
       "2      Sprzęt RTV;Video;Telewizory i akcesoria;Anteny...   \n",
       "3      Sprzęt RTV;Video;Telewizory i akcesoria;Anteny...   \n",
       "4      Telefony i akcesoria;Akcesoria telefoniczne;Ze...   \n",
       "...                                                  ...   \n",
       "83035          Gry i konsole;Gry na konsole;Gry Xbox 360   \n",
       "83036      Gry i konsole;Gry na konsole;Gry PlayStation3   \n",
       "83037          Gry i konsole;Gry na konsole;Gry Xbox 360   \n",
       "83038          Gry i konsole;Gry na konsole;Gry Xbox 360   \n",
       "83039          Gry i konsole;Gry na konsole;Gry Xbox 360   \n",
       "\n",
       "                   product_name  \n",
       "0           One For All SV 9143  \n",
       "1                Telmor DSP-860  \n",
       "2               Philips SDV6224  \n",
       "3                 Evolveo SHARK  \n",
       "4                 Jabra Freeway  \n",
       "...                         ...  \n",
       "83035   Dead Space 3 (Xbox 360)  \n",
       "83036               GTA 5 (PS3)  \n",
       "83037          GTA 4 (Xbox 360)  \n",
       "83038  Mass Effect 2 (Xbox 360)  \n",
       "83039      Fallout 3 (Xbox 360)  \n",
       "\n",
       "[83040 rows x 5 columns]"
      ],
      "text/html": "<div>\n<style scoped>\n    .dataframe tbody tr th:only-of-type {\n        vertical-align: middle;\n    }\n\n    .dataframe tbody tr th {\n        vertical-align: top;\n    }\n\n    .dataframe thead th {\n        text-align: right;\n    }\n</style>\n<table border=\"1\" class=\"dataframe\">\n  <thead>\n    <tr style=\"text-align: right;\">\n      <th></th>\n      <th>session_id</th>\n      <th>user_id</th>\n      <th>event_type</th>\n      <th>category_path</th>\n      <th>product_name</th>\n    </tr>\n  </thead>\n  <tbody>\n    <tr>\n      <th>0</th>\n      <td>100002</td>\n      <td>102</td>\n      <td>VIEW_PRODUCT</td>\n      <td>Sprzęt RTV;Video;Telewizory i akcesoria;Anteny...</td>\n      <td>One For All SV 9143</td>\n    </tr>\n    <tr>\n      <th>1</th>\n      <td>100002</td>\n      <td>102</td>\n      <td>VIEW_PRODUCT</td>\n      <td>Sprzęt RTV;Video;Telewizory i akcesoria;Anteny...</td>\n      <td>Telmor DSP-860</td>\n    </tr>\n    <tr>\n      <th>2</th>\n      <td>100002</td>\n      <td>102</td>\n      <td>VIEW_PRODUCT</td>\n      <td>Sprzęt RTV;Video;Telewizory i akcesoria;Anteny...</td>\n      <td>Philips SDV6224</td>\n    </tr>\n    <tr>\n      <th>3</th>\n      <td>100002</td>\n      <td>102</td>\n      <td>VIEW_PRODUCT</td>\n      <td>Sprzęt RTV;Video;Telewizory i akcesoria;Anteny...</td>\n      <td>Evolveo SHARK</td>\n    </tr>\n    <tr>\n      <th>4</th>\n      <td>100003</td>\n      <td>102</td>\n      <td>VIEW_PRODUCT</td>\n      <td>Telefony i akcesoria;Akcesoria telefoniczne;Ze...</td>\n      <td>Jabra Freeway</td>\n    </tr>\n    <tr>\n      <th>...</th>\n      <td>...</td>\n      <td>...</td>\n      <td>...</td>\n      <td>...</td>\n      <td>...</td>\n    </tr>\n    <tr>\n      <th>83035</th>\n      <td>110659</td>\n      <td>302</td>\n      <td>VIEW_PRODUCT</td>\n      <td>Gry i konsole;Gry na konsole;Gry Xbox 360</td>\n      <td>Dead Space 3 (Xbox 360)</td>\n    </tr>\n    <tr>\n      <th>83036</th>\n      <td>110659</td>\n      <td>302</td>\n      <td>VIEW_PRODUCT</td>\n      <td>Gry i konsole;Gry na konsole;Gry PlayStation3</td>\n      <td>GTA 5 (PS3)</td>\n    </tr>\n    <tr>\n      <th>83037</th>\n      <td>110659</td>\n      <td>302</td>\n      <td>VIEW_PRODUCT</td>\n      <td>Gry i konsole;Gry na konsole;Gry Xbox 360</td>\n      <td>GTA 4 (Xbox 360)</td>\n    </tr>\n    <tr>\n      <th>83038</th>\n      <td>110659</td>\n      <td>302</td>\n      <td>VIEW_PRODUCT</td>\n      <td>Gry i konsole;Gry na konsole;Gry Xbox 360</td>\n      <td>Mass Effect 2 (Xbox 360)</td>\n    </tr>\n    <tr>\n      <th>83039</th>\n      <td>110659</td>\n      <td>302</td>\n      <td>VIEW_PRODUCT</td>\n      <td>Gry i konsole;Gry na konsole;Gry Xbox 360</td>\n      <td>Fallout 3 (Xbox 360)</td>\n    </tr>\n  </tbody>\n</table>\n<p>83040 rows × 5 columns</p>\n</div>"
     },
     "metadata": {},
     "execution_count": 3
    }
   ],
   "source": [
    "target_user_id = 302\n",
    "# Odrzucenie danych nie związanych z użytkownikiem o id 302\n",
    "sessions_data_for_user = sessions_data.loc[sessions_data['user_id']==target_user_id]\n",
    "# Złączenie danych sesji i produktów\n",
    "session_join_products = sessions_data.join(products_data.set_index('product_id'), on='product_id', how='left')\n",
    "session_join_products = session_join_products[['session_id', 'user_id', 'event_type', 'category_path', 'product_name']]\n",
    "session_join_products"
   ]
  },
  {
   "cell_type": "code",
   "execution_count": 4,
   "metadata": {},
   "outputs": [
    {
     "output_type": "execute_result",
     "data": {
      "text/plain": [
       "Okulary 3D PHILIPS PTA436/00                      675\n",
       "Plantronics Savi W710                             654\n",
       "Telefon Siemens Gigaset DA310                     623\n",
       "Apple iPad mini 64GB                              537\n",
       "Nokia 3310                                        533\n",
       "Samsung Galaxy S III GT-i9300                     520\n",
       "Apple iPad mini 64GB 4G                           511\n",
       "Manta MM266                                       501\n",
       "Manta DVD064                                      498\n",
       "Intenso Music Walker 8GB                          472\n",
       "Sony DVP-SR760                                    454\n",
       "Plantronics Savi W740                             450\n",
       "HTC HS-S200                                       441\n",
       "Plantronics Voyager Legend                        436\n",
       "Jabra Speak 410                                   417\n",
       "Jabra Talk                                        417\n",
       "Jabra Freeway                                     414\n",
       "Gembird BTCC-002                                  407\n",
       "Jabra Drive                                       397\n",
       "Kyocera FS-3540MFP                                388\n",
       "Gears of War 3 (Xbox 360)                         385\n",
       "Parrot Minikit NEO                                385\n",
       "LCD NEC EA223WM                                   384\n",
       "Kyocera FS-3040MFP                                383\n",
       "LCD Iiyama T1932MSC                               381\n",
       "LCD Asus PA248Q                                   381\n",
       "LCD Iiyama B2280WSD                               381\n",
       "Kyocera FS-C2026MFP                               380\n",
       "LCD NEC EA223WMe                                  380\n",
       "GTA 5 (PS3)                                       378\n",
       "OKI B840dn                                        378\n",
       "Total War Shogun 2 (PC)                           376\n",
       "LCD Asus VS197D                                   376\n",
       "Lego Batman 2 DC Super Heroes (Xbox 360)          373\n",
       "LCD NEC EA224WMi                                  373\n",
       "Szalone Króliki Na żywo i w kolorze (Xbox 360)    373\n",
       "LCD Asus VK248H                                   372\n",
       "Assassin&#39;s Creed 3 (PS3)                      370\n",
       "LCD Asus VK228H                                   370\n",
       "Ricoh SG3110DN                                    370\n",
       "Medal of Honor Warfighter (PC)                    369\n",
       "Kyocera FS-3640MFP                                367\n",
       "LCD Iiyama E2280WSD                               367\n",
       "Kinect Sports Sezon 2 (Xbox 360)                  366\n",
       "LCD Dell U2412M                                   366\n",
       "Fight Night Champion (PS3)                        366\n",
       "Fallout 3 (Xbox 360)                              366\n",
       "Sniper Ghost Warrior 2 (Xbox 360)                 366\n",
       "Battlefield Bad Company 2 (Xbox 360)              365\n",
       "Crysis 2 (PS3)                                    365\n",
       "Kyocera FS-1135MFP                                364\n",
       "Call of Duty Modern Warfare 2 (PS3)               364\n",
       "LCD Philips 241B4LPYCB                            363\n",
       "Skate 3 (Xbox 360)                                363\n",
       "Air Conflicts (PC)                                363\n",
       "Dead Space 3 (Xbox 360)                           362\n",
       "LCD Asus VK278Q                                   361\n",
       "Kyocera FS-3140MFP                                361\n",
       "Tom Clancy&#39;s Rainbow Six Vegas (Xbox 360)     361\n",
       "Anarchy Reigns (Xbox 360)                         360\n",
       "Name: product_name, dtype: int64"
      ]
     },
     "metadata": {},
     "execution_count": 4
    }
   ],
   "source": [
    "session_join_products_view = session_join_products[session_join_products['event_type']=='VIEW_PRODUCT']\n",
    "session_join_products_view['product_name'].value_counts().head(60)"
   ]
  },
  {
   "cell_type": "code",
   "execution_count": 5,
   "metadata": {},
   "outputs": [
    {
     "output_type": "execute_result",
     "data": {
      "text/plain": [
       "162    13\n",
       "138    12\n",
       "127    11\n",
       "256     9\n",
       "167     9\n",
       "       ..\n",
       "151     1\n",
       "253     1\n",
       "150     1\n",
       "263     1\n",
       "301     1\n",
       "Name: user_id, Length: 180, dtype: int64"
      ]
     },
     "metadata": {},
     "execution_count": 5
    }
   ],
   "source": [
    "session_join_products_view_okulary = session_join_products_view[session_join_products_view['product_name']=='Okulary 3D PHILIPS PTA436/00']\n",
    "session_join_products_view_okulary['user_id'].value_counts()"
   ]
  },
  {
   "cell_type": "code",
   "execution_count": null,
   "metadata": {},
   "outputs": [],
   "source": []
  }
 ]
}